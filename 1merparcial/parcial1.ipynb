{
  "nbformat": 4,
  "nbformat_minor": 0,
  "metadata": {
    "colab": {
      "provenance": []
    },
    "kernelspec": {
      "name": "python3",
      "display_name": "Python 3"
    },
    "language_info": {
      "name": "python"
    }
  },
  "cells": [
    {
      "cell_type": "code",
      "execution_count": 1,
      "metadata": {
        "id": "MX9EFF6gNp91"
      },
      "outputs": [],
      "source": [
        "# utilizado para manejos de directorios y rutas\n",
        "import os\n",
        "\n",
        "# Computacion vectorial y cientifica para python\n",
        "import numpy as np\n",
        "\n",
        "# Librerias para graficación (trazado de gráficos)\n",
        "from matplotlib import pyplot\n",
        "from mpl_toolkits.mplot3d import Axes3D  # Necesario para graficar superficies 3D\n",
        "\n",
        "# llama a matplotlib a embeber graficas dentro de los cuadernillos\n",
        "%matplotlib inline"
      ]
    },
    {
      "cell_type": "code",
      "source": [
        "import pandas as pd\n",
        "from sklearn.preprocessing import LabelEncoder\n",
        "from datetime import datetime"
      ],
      "metadata": {
        "id": "aW-euUpnNwvr"
      },
      "execution_count": 2,
      "outputs": []
    },
    {
      "cell_type": "code",
      "source": [
        "#unificar datasets\n",
        "import glob"
      ],
      "metadata": {
        "id": "NzgjYBFDN1Bg"
      },
      "execution_count": 3,
      "outputs": []
    },
    {
      "cell_type": "code",
      "source": [
        "archivos_csv = []\n",
        "for nombre_archivo in glob.glob('*.csv'):\n",
        "    archivos_csv.append(nombre_archivo)"
      ],
      "metadata": {
        "id": "IFxwBO1VOJct"
      },
      "execution_count": 4,
      "outputs": []
    },
    {
      "cell_type": "code",
      "source": [
        "datos_combinados = pd.DataFrame()\n",
        "datos_lista = []\n",
        "\n",
        "for archivo_csv in archivos_csv:\n",
        "    datos = pd.read_csv(archivo_csv)\n",
        "    datos_lista.append(datos)\n",
        "\n",
        "datos_combinados = pd.concat(datos_lista, ignore_index=True)\n",
        "\n"
      ],
      "metadata": {
        "id": "aVmdrzqrOQA7"
      },
      "execution_count": 5,
      "outputs": []
    },
    {
      "cell_type": "code",
      "source": [
        "datos_combinados.to_csv('venta_mercado.csv', index=False)"
      ],
      "metadata": {
        "id": "lT7aX_uwOZs6"
      },
      "execution_count": 6,
      "outputs": []
    },
    {
      "cell_type": "code",
      "source": [
        "#Carga de dataset\n",
        "data = pd.read_csv('/content/venta_mercado.csv')"
      ],
      "metadata": {
        "id": "8K8m8tD0O4ic"
      },
      "execution_count": 7,
      "outputs": []
    },
    {
      "cell_type": "code",
      "source": [
        "print(data)"
      ],
      "metadata": {
        "colab": {
          "base_uri": "https://localhost:8080/"
        },
        "id": "Zt1E995ePANa",
        "outputId": "a8b5f4ec-d734-409d-91e3-e7986ef157dc"
      },
      "execution_count": 8,
      "outputs": [
        {
          "output_type": "stream",
          "name": "stdout",
          "text": [
            "      ProductID  Weight FatContent  ProductVisibility            ProductType  \\\n",
            "0         FDA15    9.30    Low Fat           0.016047                  Dairy   \n",
            "1         DRC01    5.92    Regular           0.019278            Soft Drinks   \n",
            "2         FDN15   17.50    Low Fat           0.016760                   Meat   \n",
            "3         FDX07   19.20    Regular           0.000000  Fruits and Vegetables   \n",
            "4         NCD19    8.93    Low Fat           0.000000              Household   \n",
            "...         ...     ...        ...                ...                    ...   \n",
            "14199     FDB58   10.50    Regular           0.013496            Snack Foods   \n",
            "14200     FDD47    7.60    Regular           0.142991          Starchy Foods   \n",
            "14201     NCO17   10.00    Low Fat           0.073529     Health and Hygiene   \n",
            "14202     FDJ26   15.30    Regular           0.000000                 Canned   \n",
            "14203     FDU37    9.50    Regular           0.104720                 Canned   \n",
            "\n",
            "            MRP OutletID  EstablishmentYear OutletSize LocationType  \\\n",
            "0      249.8092   OUT049               1999     Medium       Tier 1   \n",
            "1       48.2692   OUT018               2009     Medium       Tier 3   \n",
            "2      141.6180   OUT049               1999     Medium       Tier 1   \n",
            "3      182.0950   OUT010               1998        NaN       Tier 3   \n",
            "4       53.8614   OUT013               1987       High       Tier 3   \n",
            "...         ...      ...                ...        ...          ...   \n",
            "14199  141.3154   OUT046               1997      Small       Tier 1   \n",
            "14200  169.1448   OUT018               2009     Medium       Tier 3   \n",
            "14201  118.7440   OUT045               2002        NaN       Tier 2   \n",
            "14202  214.6218   OUT017               2007        NaN       Tier 2   \n",
            "14203   79.7960   OUT045               2002        NaN       Tier 2   \n",
            "\n",
            "              OutletType  OutletSales  \n",
            "0      Supermarket Type1    3735.1380  \n",
            "1      Supermarket Type2     443.4228  \n",
            "2      Supermarket Type1    2097.2700  \n",
            "3          Grocery Store     732.3800  \n",
            "4      Supermarket Type1     994.7052  \n",
            "...                  ...          ...  \n",
            "14199  Supermarket Type1          NaN  \n",
            "14200  Supermarket Type2          NaN  \n",
            "14201  Supermarket Type1          NaN  \n",
            "14202  Supermarket Type1          NaN  \n",
            "14203  Supermarket Type1          NaN  \n",
            "\n",
            "[14204 rows x 12 columns]\n"
          ]
        }
      ]
    },
    {
      "cell_type": "code",
      "source": [
        "data.info()"
      ],
      "metadata": {
        "colab": {
          "base_uri": "https://localhost:8080/"
        },
        "id": "4FHUFVqXPAsh",
        "outputId": "7d8ee159-f6c7-434a-a221-8e82c4d12044"
      },
      "execution_count": 9,
      "outputs": [
        {
          "output_type": "stream",
          "name": "stdout",
          "text": [
            "<class 'pandas.core.frame.DataFrame'>\n",
            "RangeIndex: 14204 entries, 0 to 14203\n",
            "Data columns (total 12 columns):\n",
            " #   Column             Non-Null Count  Dtype  \n",
            "---  ------             --------------  -----  \n",
            " 0   ProductID          14204 non-null  object \n",
            " 1   Weight             11765 non-null  float64\n",
            " 2   FatContent         14204 non-null  object \n",
            " 3   ProductVisibility  14204 non-null  float64\n",
            " 4   ProductType        14204 non-null  object \n",
            " 5   MRP                14204 non-null  float64\n",
            " 6   OutletID           14204 non-null  object \n",
            " 7   EstablishmentYear  14204 non-null  int64  \n",
            " 8   OutletSize         10188 non-null  object \n",
            " 9   LocationType       14204 non-null  object \n",
            " 10  OutletType         14204 non-null  object \n",
            " 11  OutletSales        8523 non-null   float64\n",
            "dtypes: float64(4), int64(1), object(7)\n",
            "memory usage: 1.3+ MB\n"
          ]
        }
      ]
    },
    {
      "cell_type": "code",
      "source": [
        "#variables categoricas\n",
        "columnas_categoricas = data.select_dtypes(include=['object']).columns"
      ],
      "metadata": {
        "id": "FSo_AlwkPCff"
      },
      "execution_count": 10,
      "outputs": []
    },
    {
      "cell_type": "code",
      "source": [
        "#Procesamiento de frases o palabras\n",
        "for columna in columnas_categoricas:\n",
        "  le = LabelEncoder()\n",
        "  data[columna] = le.fit_transform(data[columna])"
      ],
      "metadata": {
        "id": "6rbnvlw5PDdk"
      },
      "execution_count": 11,
      "outputs": []
    },
    {
      "cell_type": "code",
      "source": [
        "#llenar datos vacios\n",
        "columnas_especificas = ['Weight', 'OutletSize','OutletSales']\n",
        "media_columnas = data[columnas_especificas].mean()\n",
        "data[columnas_especificas] = data[columnas_especificas].fillna(media_columnas)"
      ],
      "metadata": {
        "id": "Dbg_dN7-VuyK"
      },
      "execution_count": 12,
      "outputs": []
    },
    {
      "cell_type": "code",
      "source": [
        "#resultado\n",
        "print(data)"
      ],
      "metadata": {
        "colab": {
          "base_uri": "https://localhost:8080/"
        },
        "id": "jgThzfayPpXf",
        "outputId": "4169d810-5e2d-4228-f0c8-9cacfe23b818"
      },
      "execution_count": 13,
      "outputs": [
        {
          "output_type": "stream",
          "name": "stdout",
          "text": [
            "       ProductID  Weight  FatContent  ProductVisibility  ProductType  \\\n",
            "0            156    9.30           1           0.016047            4   \n",
            "1              8    5.92           2           0.019278           14   \n",
            "2            662   17.50           1           0.016760           10   \n",
            "3           1121   19.20           2           0.000000            6   \n",
            "4           1297    8.93           1           0.000000            9   \n",
            "...          ...     ...         ...                ...          ...   \n",
            "14199        233   10.50           2           0.013496           13   \n",
            "14200        308    7.60           2           0.142991           15   \n",
            "14201       1426   10.00           1           0.073529            8   \n",
            "14202        521   15.30           2           0.000000            3   \n",
            "14203        997    9.50           2           0.104720            3   \n",
            "\n",
            "            MRP  OutletID  EstablishmentYear  OutletSize  LocationType  \\\n",
            "0      249.8092         9               1999           1             0   \n",
            "1       48.2692         3               2009           1             2   \n",
            "2      141.6180         9               1999           1             0   \n",
            "3      182.0950         0               1998           3             2   \n",
            "4       53.8614         1               1987           0             2   \n",
            "...         ...       ...                ...         ...           ...   \n",
            "14199  141.3154         8               1997           2             0   \n",
            "14200  169.1448         3               2009           1             2   \n",
            "14201  118.7440         7               2002           3             1   \n",
            "14202  214.6218         2               2007           3             1   \n",
            "14203   79.7960         7               2002           3             1   \n",
            "\n",
            "       OutletType  OutletSales  \n",
            "0               1  3735.138000  \n",
            "1               2   443.422800  \n",
            "2               1  2097.270000  \n",
            "3               0   732.380000  \n",
            "4               1   994.705200  \n",
            "...           ...          ...  \n",
            "14199           1  2181.288914  \n",
            "14200           2  2181.288914  \n",
            "14201           1  2181.288914  \n",
            "14202           1  2181.288914  \n",
            "14203           1  2181.288914  \n",
            "\n",
            "[14204 rows x 12 columns]\n"
          ]
        }
      ]
    },
    {
      "cell_type": "code",
      "source": [
        "data.info()"
      ],
      "metadata": {
        "colab": {
          "base_uri": "https://localhost:8080/"
        },
        "id": "eA8Jw34ePs5I",
        "outputId": "64113357-39f4-41a7-f0ba-a48233a60adb"
      },
      "execution_count": 14,
      "outputs": [
        {
          "output_type": "stream",
          "name": "stdout",
          "text": [
            "<class 'pandas.core.frame.DataFrame'>\n",
            "RangeIndex: 14204 entries, 0 to 14203\n",
            "Data columns (total 12 columns):\n",
            " #   Column             Non-Null Count  Dtype  \n",
            "---  ------             --------------  -----  \n",
            " 0   ProductID          14204 non-null  int64  \n",
            " 1   Weight             14204 non-null  float64\n",
            " 2   FatContent         14204 non-null  int64  \n",
            " 3   ProductVisibility  14204 non-null  float64\n",
            " 4   ProductType        14204 non-null  int64  \n",
            " 5   MRP                14204 non-null  float64\n",
            " 6   OutletID           14204 non-null  int64  \n",
            " 7   EstablishmentYear  14204 non-null  int64  \n",
            " 8   OutletSize         14204 non-null  int64  \n",
            " 9   LocationType       14204 non-null  int64  \n",
            " 10  OutletType         14204 non-null  int64  \n",
            " 11  OutletSales        14204 non-null  float64\n",
            "dtypes: float64(4), int64(8)\n",
            "memory usage: 1.3 MB\n"
          ]
        }
      ]
    },
    {
      "cell_type": "code",
      "source": [
        "# Obtener la columna que deseas mover\n",
        "columna_a_mover = data.pop('MRP')\n",
        "\n",
        "# Agregar la columna al final del DataFrame\n",
        "data['MRP'] = columna_a_mover\n",
        "\n",
        "# Generar un nuevo dataset con la columna movida\n",
        "nuevo_dataset = data.copy()\n",
        "\n",
        "# Guardar el nuevo DataFrame en un archivo CSV\n",
        "nuevo_dataset.to_csv('venta_mercado2.csv', index=False)\n",
        "\n",
        "print(\"Archivo 'venta_mercado2.csv' creado exitosamente.\")"
      ],
      "metadata": {
        "colab": {
          "base_uri": "https://localhost:8080/"
        },
        "id": "2uLowcy_QoOu",
        "outputId": "0b2d2129-c97c-40c4-c930-da8eae3e2f66"
      },
      "execution_count": 15,
      "outputs": [
        {
          "output_type": "stream",
          "name": "stdout",
          "text": [
            "Archivo 'venta_mercado2.csv' creado exitosamente.\n"
          ]
        }
      ]
    },
    {
      "cell_type": "code",
      "source": [
        "#Carga de dataset\n",
        "data = pd.read_csv('/content/venta_mercado2.csv')"
      ],
      "metadata": {
        "id": "tYKSFX7VQ6m0"
      },
      "execution_count": 16,
      "outputs": []
    },
    {
      "cell_type": "code",
      "source": [
        "# Lectura de Datos\n",
        "X = data.iloc[:, :11]\n",
        "y = data.iloc[:, 11]\n",
        "m = y.size"
      ],
      "metadata": {
        "id": "a9oP3OQERGCR"
      },
      "execution_count": 17,
      "outputs": []
    },
    {
      "cell_type": "code",
      "source": [
        "print(X)\n",
        "print('*'*25)\n",
        "print(y)"
      ],
      "metadata": {
        "colab": {
          "base_uri": "https://localhost:8080/"
        },
        "id": "IdUd7ajCRH97",
        "outputId": "3baa7e8a-b061-4545-ad2c-339c52ec649b"
      },
      "execution_count": 18,
      "outputs": [
        {
          "output_type": "stream",
          "name": "stdout",
          "text": [
            "       ProductID  Weight  FatContent  ProductVisibility  ProductType  \\\n",
            "0            156    9.30           1           0.016047            4   \n",
            "1              8    5.92           2           0.019278           14   \n",
            "2            662   17.50           1           0.016760           10   \n",
            "3           1121   19.20           2           0.000000            6   \n",
            "4           1297    8.93           1           0.000000            9   \n",
            "...          ...     ...         ...                ...          ...   \n",
            "14199        233   10.50           2           0.013496           13   \n",
            "14200        308    7.60           2           0.142991           15   \n",
            "14201       1426   10.00           1           0.073529            8   \n",
            "14202        521   15.30           2           0.000000            3   \n",
            "14203        997    9.50           2           0.104720            3   \n",
            "\n",
            "       OutletID  EstablishmentYear  OutletSize  LocationType  OutletType  \\\n",
            "0             9               1999           1             0           1   \n",
            "1             3               2009           1             2           2   \n",
            "2             9               1999           1             0           1   \n",
            "3             0               1998           3             2           0   \n",
            "4             1               1987           0             2           1   \n",
            "...         ...                ...         ...           ...         ...   \n",
            "14199         8               1997           2             0           1   \n",
            "14200         3               2009           1             2           2   \n",
            "14201         7               2002           3             1           1   \n",
            "14202         2               2007           3             1           1   \n",
            "14203         7               2002           3             1           1   \n",
            "\n",
            "       OutletSales  \n",
            "0      3735.138000  \n",
            "1       443.422800  \n",
            "2      2097.270000  \n",
            "3       732.380000  \n",
            "4       994.705200  \n",
            "...            ...  \n",
            "14199  2181.288914  \n",
            "14200  2181.288914  \n",
            "14201  2181.288914  \n",
            "14202  2181.288914  \n",
            "14203  2181.288914  \n",
            "\n",
            "[14204 rows x 11 columns]\n",
            "*************************\n",
            "0        249.8092\n",
            "1         48.2692\n",
            "2        141.6180\n",
            "3        182.0950\n",
            "4         53.8614\n",
            "           ...   \n",
            "14199    141.3154\n",
            "14200    169.1448\n",
            "14201    118.7440\n",
            "14202    214.6218\n",
            "14203     79.7960\n",
            "Name: MRP, Length: 14204, dtype: float64\n"
          ]
        }
      ]
    },
    {
      "cell_type": "code",
      "source": [
        "def  featureNormalize(X):\n",
        "    X_norm = X.copy()\n",
        "    mu = np.zeros(X.shape[1])\n",
        "    sigma = np.zeros(X.shape[1])\n",
        "\n",
        "    mu = np.mean(X, axis = 0)\n",
        "    sigma = np.std(X, axis = 0)\n",
        "    X_norm = (X - mu) / sigma\n",
        "\n",
        "    return X_norm, mu, sigma"
      ],
      "metadata": {
        "id": "n-aShHKNRoS9"
      },
      "execution_count": 19,
      "outputs": []
    },
    {
      "cell_type": "code",
      "source": [
        "# llama featureNormalize con los datos cargados\n",
        "X_norm, mu, sigma = featureNormalize(X)\n",
        "\n",
        "print(X)\n",
        "print('Media calculada:', mu)\n",
        "print('Desviación estandar calculada:', sigma)\n",
        "print(X_norm)"
      ],
      "metadata": {
        "colab": {
          "base_uri": "https://localhost:8080/"
        },
        "id": "2mnNqXZ0Rtuz",
        "outputId": "0640a5fa-abcf-456d-e7e8-79df3b76e77c"
      },
      "execution_count": 20,
      "outputs": [
        {
          "output_type": "stream",
          "name": "stdout",
          "text": [
            "       ProductID  Weight  FatContent  ProductVisibility  ProductType  \\\n",
            "0            156    9.30           1           0.016047            4   \n",
            "1              8    5.92           2           0.019278           14   \n",
            "2            662   17.50           1           0.016760           10   \n",
            "3           1121   19.20           2           0.000000            6   \n",
            "4           1297    8.93           1           0.000000            9   \n",
            "...          ...     ...         ...                ...          ...   \n",
            "14199        233   10.50           2           0.013496           13   \n",
            "14200        308    7.60           2           0.142991           15   \n",
            "14201       1426   10.00           1           0.073529            8   \n",
            "14202        521   15.30           2           0.000000            3   \n",
            "14203        997    9.50           2           0.104720            3   \n",
            "\n",
            "       OutletID  EstablishmentYear  OutletSize  LocationType  OutletType  \\\n",
            "0             9               1999           1             0           1   \n",
            "1             3               2009           1             2           2   \n",
            "2             9               1999           1             0           1   \n",
            "3             0               1998           3             2           0   \n",
            "4             1               1987           0             2           1   \n",
            "...         ...                ...         ...           ...         ...   \n",
            "14199         8               1997           2             0           1   \n",
            "14200         3               2009           1             2           2   \n",
            "14201         7               2002           3             1           1   \n",
            "14202         2               2007           3             1           1   \n",
            "14203         7               2002           3             1           1   \n",
            "\n",
            "       OutletSales  \n",
            "0      3735.138000  \n",
            "1       443.422800  \n",
            "2      2097.270000  \n",
            "3       732.380000  \n",
            "4       994.705200  \n",
            "...            ...  \n",
            "14199  2181.288914  \n",
            "14200  2181.288914  \n",
            "14201  2181.288914  \n",
            "14202  2181.288914  \n",
            "14203  2181.288914  \n",
            "\n",
            "[14204 rows x 11 columns]\n",
            "Media calculada: ProductID             780.193889\n",
            "Weight                 12.792854\n",
            "FatContent              1.369121\n",
            "ProductVisibility       0.065953\n",
            "ProductType             7.229372\n",
            "OutletID                4.722473\n",
            "EstablishmentYear    1997.830681\n",
            "OutletSize              1.736342\n",
            "LocationType            1.112856\n",
            "OutletType              1.201281\n",
            "OutletSales          2181.288914\n",
            "dtype: float64\n",
            "Desviación estandar calculada: ProductID             449.603831\n",
            "Weight                  4.234077\n",
            "FatContent              0.643277\n",
            "ProductVisibility       0.051457\n",
            "ProductType             4.213323\n",
            "OutletID                2.837001\n",
            "EstablishmentYear       8.371369\n",
            "OutletSize              0.989084\n",
            "LocationType            0.812727\n",
            "OutletType              0.796515\n",
            "OutletSales          1321.817897\n",
            "dtype: float64\n",
            "       ProductID    Weight  FatContent  ProductVisibility  ProductType  \\\n",
            "0      -1.388320 -0.824939   -0.573814          -0.969852    -0.766467   \n",
            "1      -1.717498 -1.623224    0.980726          -0.907063     1.606957   \n",
            "2      -0.262885  1.111729   -0.573814          -0.956000     0.657587   \n",
            "3       0.758014  1.513233    0.980726          -1.281712    -0.291782   \n",
            "4       1.149470 -0.912325   -0.573814          -1.281712     0.420245   \n",
            "...          ...       ...         ...                ...          ...   \n",
            "14199  -1.217058 -0.541524    0.980726          -1.019425     1.369614   \n",
            "14200  -1.050244 -1.226443    0.980726           1.497142     1.844299   \n",
            "14201   1.436389 -0.659613   -0.573814           0.147226     0.182903   \n",
            "14202  -0.576494  0.592135    0.980726          -1.281712    -1.003809   \n",
            "14203   0.482216 -0.777703    0.980726           0.753397    -1.003809   \n",
            "\n",
            "       OutletID  EstablishmentYear  OutletSize  LocationType  OutletType  \\\n",
            "0      1.507764           0.139681   -0.744468     -1.369286   -0.252702   \n",
            "1     -0.607145           1.334228   -0.744468      1.091566    1.002766   \n",
            "2      1.507764           0.139681   -0.744468     -1.369286   -0.252702   \n",
            "3     -1.664600           0.020226    1.277604      1.091566   -1.508171   \n",
            "4     -1.312115          -1.293777   -1.755504      1.091566   -0.252702   \n",
            "...         ...                ...         ...           ...         ...   \n",
            "14199  1.155279          -0.099229    0.266568     -1.369286   -0.252702   \n",
            "14200 -0.607145           1.334228   -0.744468      1.091566    1.002766   \n",
            "14201  0.802794           0.498045    1.277604     -0.138860   -0.252702   \n",
            "14202 -0.959630           1.095319    1.277604     -0.138860   -0.252702   \n",
            "14203  0.802794           0.498045    1.277604     -0.138860   -0.252702   \n",
            "\n",
            "        OutletSales  \n",
            "0      1.175539e+00  \n",
            "1     -1.314755e+00  \n",
            "2     -6.356315e-02  \n",
            "3     -1.096149e+00  \n",
            "4     -8.976908e-01  \n",
            "...             ...  \n",
            "14199  3.440318e-16  \n",
            "14200  3.440318e-16  \n",
            "14201  3.440318e-16  \n",
            "14202  3.440318e-16  \n",
            "14203  3.440318e-16  \n",
            "\n",
            "[14204 rows x 11 columns]\n"
          ]
        }
      ]
    },
    {
      "cell_type": "code",
      "source": [
        "# Añade el termino de interseccion a X\n",
        "# (Columna de unos para X0)\n",
        "X = np.concatenate([np.ones((m, 1)), X_norm], axis=1)"
      ],
      "metadata": {
        "id": "Eo0PUCbgR8vK"
      },
      "execution_count": 21,
      "outputs": []
    },
    {
      "cell_type": "code",
      "source": [
        "print(X)"
      ],
      "metadata": {
        "colab": {
          "base_uri": "https://localhost:8080/"
        },
        "id": "jYcCvHw1R-rM",
        "outputId": "c6f03550-313f-40a0-f592-f424998a6922"
      },
      "execution_count": 22,
      "outputs": [
        {
          "output_type": "stream",
          "name": "stdout",
          "text": [
            "[[ 1.00000000e+00 -1.38831978e+00 -8.24938722e-01 ... -1.36928630e+00\n",
            "  -2.52702417e-01  1.17553945e+00]\n",
            " [ 1.00000000e+00 -1.71749847e+00 -1.62322365e+00 ...  1.09156555e+00\n",
            "   1.00276633e+00 -1.31475456e+00]\n",
            " [ 1.00000000e+00 -2.62884524e-01  1.11172885e+00 ... -1.36928630e+00\n",
            "  -2.52702417e-01 -6.35631532e-02]\n",
            " ...\n",
            " [ 1.00000000e+00  1.43638925e+00 -6.59613442e-01 ... -1.38860375e-01\n",
            "  -2.52702417e-01  3.44031770e-16]\n",
            " [ 1.00000000e+00 -5.76493952e-01  5.92135112e-01 ... -1.38860375e-01\n",
            "  -2.52702417e-01  3.44031770e-16]\n",
            " [ 1.00000000e+00  4.82215889e-01 -7.77702928e-01 ... -1.38860375e-01\n",
            "  -2.52702417e-01  3.44031770e-16]]\n"
          ]
        }
      ]
    },
    {
      "cell_type": "code",
      "source": [
        "def computeCostMulti(X, y, theta):\n",
        "    # Inicializa algunos valores utiles\n",
        "    m = y.shape[0] # numero de ejemplos de entrenamiento\n",
        "\n",
        "    J = 0\n",
        "\n",
        "    h = np.dot(X, theta)\n",
        "\n",
        "    J = (1/(2 * m)) * np.sum(np.square(np.dot(X, theta) - y))\n",
        "\n",
        "    return J"
      ],
      "metadata": {
        "id": "Hu8LofBoSDwX"
      },
      "execution_count": 23,
      "outputs": []
    },
    {
      "cell_type": "code",
      "source": [
        "def gradientDescentMulti(X, y, theta, alpha, num_iters):\n",
        "\n",
        "    # Inicializa algunos valores\n",
        "    m = y.shape[0] # numero de ejemplos de entrenamiento\n",
        "\n",
        "    # realiza una copia de theta, el cual será acutalizada por el descenso por el gradiente\n",
        "    theta = theta.copy()\n",
        "\n",
        "    J_history = []\n",
        "\n",
        "    for i in range(num_iters):\n",
        "        theta = theta - (alpha / m) * (np.dot(X, theta) - y).dot(X)\n",
        "        J_history.append(computeCostMulti(X, y, theta))\n",
        "\n",
        "    return theta, J_history"
      ],
      "metadata": {
        "id": "EIyt-beNSJZt"
      },
      "execution_count": 24,
      "outputs": []
    },
    {
      "cell_type": "code",
      "source": [
        "# Elegir algun valor para alpha (probar varias alternativas)\n",
        "alpha = 0.001\n",
        "num_iters = 5000\n",
        "\n",
        "# inicializa theta y ejecuta el descenso por el gradiente\n",
        "theta = np.zeros(12)\n",
        "theta, J_history = gradientDescentMulti(X, y, theta, alpha, num_iters)\n",
        "\n",
        "# Grafica la convergencia del costo\n",
        "pyplot.plot(np.arange(len(J_history)), J_history, lw=2)\n",
        "pyplot.xlabel('Numero de iteraciones')\n",
        "pyplot.ylabel('Costo J')\n",
        "\n",
        "# Muestra los resultados del descenso por el gradiente\n",
        "print('theta calculado por el descenso por el gradiente: {:s}'.format(str(theta)))\n",
        "\n",
        "# Estimar el precio de venta del mercado con distintas caracteristicas\n",
        "X_array = [1, 12, 7.20, 1, 0.019278, 15, 4, 2010, 2, 0, 1, 563.4288]\n",
        "X_array[1:12] = (X_array[1:12] - mu) / sigma\n",
        "MRP = np.dot(X_array, theta)\n",
        "\n",
        "print('El valor predecido es (usando el descenso por el gradiente): {:.4f}'.format(MRP))"
      ],
      "metadata": {
        "colab": {
          "base_uri": "https://localhost:8080/",
          "height": 518
        },
        "id": "UgFpBJuZSQBO",
        "outputId": "445d4bbe-7a08-4198-8184-26259973e265"
      },
      "execution_count": 25,
      "outputs": [
        {
          "output_type": "stream",
          "name": "stdout",
          "text": [
            "theta calculado por el descenso por el gradiente: [140.05726702   0.52430952   1.72887364  -0.28253944   1.05190818\n",
            "   2.32997881  -3.3444568    0.1642657    0.58163618  -0.63456762\n",
            "  -7.78837015  29.95458383]\n",
            "El valor predecido es (usando el descenso por el gradiente): 107.8021\n"
          ]
        },
        {
          "output_type": "display_data",
          "data": {
            "text/plain": [
              "<Figure size 640x480 with 1 Axes>"
            ],
            "image/png": "[encoded data removed]"
          },
          "metadata": {}
        }
      ]
    },
    {
      "cell_type": "code",
      "source": [
        "X_array = [1, 12, 7.20, 1, 0.019278, 15, 4, 2010, 2, 0, 1, 563.4288]\n",
        "X_array[1:12] = (X_array[1:12] - mu) / sigma"
      ],
      "metadata": {
        "id": "wAVxLaRrWo_7"
      },
      "execution_count": 26,
      "outputs": []
    },
    {
      "cell_type": "code",
      "source": [
        "X_array[1:12]"
      ],
      "metadata": {
        "colab": {
          "base_uri": "https://localhost:8080/"
        },
        "id": "EKdCIyW2WxmV",
        "outputId": "4756c4be-3c12-4ef4-d4d6-072a396824e4"
      },
      "execution_count": 27,
      "outputs": [
        {
          "output_type": "execute_result",
          "data": {
            "text/plain": [
              "[-1.7086017439845411,\n",
              " -1.3209145644516085,\n",
              " -0.5738137388268035,\n",
              " -0.9070675744405146,\n",
              " 1.8442991062468852,\n",
              " -0.25466062279572194,\n",
              " 1.4536831732124034,\n",
              " 0.2665678892659796,\n",
              " -1.3692863045732147,\n",
              " -0.2527024172133791,\n",
              " -1.2239659613297467]"
            ]
          },
          "metadata": {},
          "execution_count": 27
        }
      ]
    },
    {
      "cell_type": "code",
      "source": [
        "#Carga de dataset\n",
        "data = pd.read_csv('/content/venta_mercado2.csv')"
      ],
      "metadata": {
        "id": "yqtG19zZYATV"
      },
      "execution_count": 28,
      "outputs": []
    },
    {
      "cell_type": "code",
      "source": [
        "print(data)"
      ],
      "metadata": {
        "colab": {
          "base_uri": "https://localhost:8080/"
        },
        "id": "bUw-3PkbaSHk",
        "outputId": "67e6b7f2-551e-4f63-8b38-5227cddb4412"
      },
      "execution_count": 29,
      "outputs": [
        {
          "output_type": "stream",
          "name": "stdout",
          "text": [
            "       ProductID  Weight  FatContent  ProductVisibility  ProductType  \\\n",
            "0            156    9.30           1           0.016047            4   \n",
            "1              8    5.92           2           0.019278           14   \n",
            "2            662   17.50           1           0.016760           10   \n",
            "3           1121   19.20           2           0.000000            6   \n",
            "4           1297    8.93           1           0.000000            9   \n",
            "...          ...     ...         ...                ...          ...   \n",
            "14199        233   10.50           2           0.013496           13   \n",
            "14200        308    7.60           2           0.142991           15   \n",
            "14201       1426   10.00           1           0.073529            8   \n",
            "14202        521   15.30           2           0.000000            3   \n",
            "14203        997    9.50           2           0.104720            3   \n",
            "\n",
            "       OutletID  EstablishmentYear  OutletSize  LocationType  OutletType  \\\n",
            "0             9               1999           1             0           1   \n",
            "1             3               2009           1             2           2   \n",
            "2             9               1999           1             0           1   \n",
            "3             0               1998           3             2           0   \n",
            "4             1               1987           0             2           1   \n",
            "...         ...                ...         ...           ...         ...   \n",
            "14199         8               1997           2             0           1   \n",
            "14200         3               2009           1             2           2   \n",
            "14201         7               2002           3             1           1   \n",
            "14202         2               2007           3             1           1   \n",
            "14203         7               2002           3             1           1   \n",
            "\n",
            "       OutletSales       MRP  \n",
            "0      3735.138000  249.8092  \n",
            "1       443.422800   48.2692  \n",
            "2      2097.270000  141.6180  \n",
            "3       732.380000  182.0950  \n",
            "4       994.705200   53.8614  \n",
            "...            ...       ...  \n",
            "14199  2181.288914  141.3154  \n",
            "14200  2181.288914  169.1448  \n",
            "14201  2181.288914  118.7440  \n",
            "14202  2181.288914  214.6218  \n",
            "14203  2181.288914   79.7960  \n",
            "\n",
            "[14204 rows x 12 columns]\n"
          ]
        }
      ]
    },
    {
      "cell_type": "code",
      "source": [
        "data.info()"
      ],
      "metadata": {
        "colab": {
          "base_uri": "https://localhost:8080/"
        },
        "id": "wQmVFuhiaWJv",
        "outputId": "5613b5db-a27a-4a88-d152-7bdb80e26eb3"
      },
      "execution_count": 30,
      "outputs": [
        {
          "output_type": "stream",
          "name": "stdout",
          "text": [
            "<class 'pandas.core.frame.DataFrame'>\n",
            "RangeIndex: 14204 entries, 0 to 14203\n",
            "Data columns (total 12 columns):\n",
            " #   Column             Non-Null Count  Dtype  \n",
            "---  ------             --------------  -----  \n",
            " 0   ProductID          14204 non-null  int64  \n",
            " 1   Weight             14204 non-null  float64\n",
            " 2   FatContent         14204 non-null  int64  \n",
            " 3   ProductVisibility  14204 non-null  float64\n",
            " 4   ProductType        14204 non-null  int64  \n",
            " 5   OutletID           14204 non-null  int64  \n",
            " 6   EstablishmentYear  14204 non-null  int64  \n",
            " 7   OutletSize         14204 non-null  int64  \n",
            " 8   LocationType       14204 non-null  int64  \n",
            " 9   OutletType         14204 non-null  int64  \n",
            " 10  OutletSales        14204 non-null  float64\n",
            " 11  MRP                14204 non-null  float64\n",
            "dtypes: float64(4), int64(8)\n",
            "memory usage: 1.3 MB\n"
          ]
        }
      ]
    },
    {
      "cell_type": "code",
      "source": [
        "# Lectura de Datos\n",
        "X = data.iloc[:, :11]\n",
        "y = data.iloc[:, 11]\n",
        "m = y.size"
      ],
      "metadata": {
        "id": "dRHqrxjYYWZB"
      },
      "execution_count": 37,
      "outputs": []
    },
    {
      "cell_type": "code",
      "source": [
        "print(X)\n",
        "print('*'*25)\n",
        "print(y)"
      ],
      "metadata": {
        "colab": {
          "base_uri": "https://localhost:8080/"
        },
        "id": "-ALDY74kYXkK",
        "outputId": "4a9d03f4-e9c9-4948-e633-d40497f560da"
      },
      "execution_count": 38,
      "outputs": [
        {
          "output_type": "stream",
          "name": "stdout",
          "text": [
            "       ProductID  Weight  FatContent  ProductVisibility  ProductType  \\\n",
            "0            156    9.30           1           0.016047            4   \n",
            "1              8    5.92           2           0.019278           14   \n",
            "2            662   17.50           1           0.016760           10   \n",
            "3           1121   19.20           2           0.000000            6   \n",
            "4           1297    8.93           1           0.000000            9   \n",
            "...          ...     ...         ...                ...          ...   \n",
            "14199        233   10.50           2           0.013496           13   \n",
            "14200        308    7.60           2           0.142991           15   \n",
            "14201       1426   10.00           1           0.073529            8   \n",
            "14202        521   15.30           2           0.000000            3   \n",
            "14203        997    9.50           2           0.104720            3   \n",
            "\n",
            "       OutletID  EstablishmentYear  OutletSize  LocationType  OutletType  \\\n",
            "0             9               1999           1             0           1   \n",
            "1             3               2009           1             2           2   \n",
            "2             9               1999           1             0           1   \n",
            "3             0               1998           3             2           0   \n",
            "4             1               1987           0             2           1   \n",
            "...         ...                ...         ...           ...         ...   \n",
            "14199         8               1997           2             0           1   \n",
            "14200         3               2009           1             2           2   \n",
            "14201         7               2002           3             1           1   \n",
            "14202         2               2007           3             1           1   \n",
            "14203         7               2002           3             1           1   \n",
            "\n",
            "       OutletSales  \n",
            "0      3735.138000  \n",
            "1       443.422800  \n",
            "2      2097.270000  \n",
            "3       732.380000  \n",
            "4       994.705200  \n",
            "...            ...  \n",
            "14199  2181.288914  \n",
            "14200  2181.288914  \n",
            "14201  2181.288914  \n",
            "14202  2181.288914  \n",
            "14203  2181.288914  \n",
            "\n",
            "[14204 rows x 11 columns]\n",
            "*************************\n",
            "0        249.8092\n",
            "1         48.2692\n",
            "2        141.6180\n",
            "3        182.0950\n",
            "4         53.8614\n",
            "           ...   \n",
            "14199    141.3154\n",
            "14200    169.1448\n",
            "14201    118.7440\n",
            "14202    214.6218\n",
            "14203     79.7960\n",
            "Name: MRP, Length: 14204, dtype: float64\n"
          ]
        }
      ]
    },
    {
      "cell_type": "code",
      "source": [
        "X = np.concatenate([np.ones((m, 1)), X], axis=1)"
      ],
      "metadata": {
        "id": "dEnpPJNIYezN"
      },
      "execution_count": 39,
      "outputs": []
    },
    {
      "cell_type": "code",
      "source": [
        "# importante que para usar m>n, evitar datos redundantes, no se normaliza\n",
        "def normalEqn(X, y):\n",
        "\n",
        "    theta = np.zeros(X.shape[1])\n",
        "\n",
        "    theta = np.dot(np.dot(np.linalg.inv(np.dot(X.T,X)),X.T),y)\n",
        "\n",
        "    return theta"
      ],
      "metadata": {
        "id": "5ea9DtWmYfti"
      },
      "execution_count": 40,
      "outputs": []
    },
    {
      "cell_type": "code",
      "source": [
        "# Calcula los parametros con la ecuación de la normal\n",
        "theta = normalEqn(X, y);\n",
        "\n",
        "# Muestra los resultados optenidos a partir de la aplicación de la ecuación de la normal\n",
        "print('Theta calculado a partir de la ecuación de la normal: {:s}'.format(str(theta)));\n",
        "\n",
        "# Estimar el precio de venta de un producto en el mercado\n",
        "\n",
        "X_array = [1, 12, 7.20, 1, 0.019278, 15, 4, 2010, 2, 0, 1, 563.4288]\n",
        "MRP = np.dot(X_array, theta)\n",
        "\n",
        "print('Precio predecido (usando la ecuación de la normal) es: ${:.0f}'.format(MRP))"
      ],
      "metadata": {
        "colab": {
          "base_uri": "https://localhost:8080/"
        },
        "id": "WIVZEz1xYjDw",
        "outputId": "da688c1c-e078-4e81-a7b1-9b6c6aaf69c8"
      },
      "execution_count": 41,
      "outputs": [
        {
          "output_type": "stream",
          "name": "stdout",
          "text": [
            "Theta calculado a partir de la ecuación de la normal: [ 1.99277483e+01  1.14828212e-03  4.07796450e-01 -4.62310959e-01\n",
            "  1.99809538e+01  5.51255842e-01 -8.67908004e-01  3.85211674e-02\n",
            "  7.86435870e-02  7.23907145e-01 -1.16908450e+01  2.31680139e-02]\n",
            "Precio predecido (usando la ecuación de la normal) es: $107\n"
          ]
        }
      ]
    }
  ]
}