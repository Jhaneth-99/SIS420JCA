{
  "nbformat": 4,
  "nbformat_minor": 0,
  "metadata": {
    "colab": {
      "provenance": []
    },
    "kernelspec": {
      "name": "python3",
      "display_name": "Python 3"
    },
    "language_info": {
      "name": "python"
    }
  },
  "cells": [
    {
      "cell_type": "code",
      "execution_count": 77,
      "metadata": {
        "id": "qUxgZvq33-ID"
      },
      "outputs": [],
      "source": [
        "# utilizado para manejos de directorios y rutas\n",
        "import os\n",
        "\n",
        "# Computacion vectorial y cientifica para python\n",
        "import numpy as np\n",
        "\n",
        "# Librerias para graficación (trazado de gráficos)\n",
        "from matplotlib import pyplot\n",
        "from mpl_toolkits.mplot3d import Axes3D  # Necesario para graficar superficies 3D\n",
        "\n",
        "# llama a matplotlib a embeber graficas dentro de los cuadernillos\n",
        "%matplotlib inline"
      ]
    },
    {
      "cell_type": "code",
      "source": [
        "import pandas as pd\n",
        "from sklearn.preprocessing import LabelEncoder\n",
        "from datetime import datetime"
      ],
      "metadata": {
        "id": "3zeLCpwjiQCT"
      },
      "execution_count": 78,
      "outputs": []
    },
    {
      "cell_type": "code",
      "source": [
        "#Carga de dataset\n",
        "data = pd.read_csv('/content/houses_medellin.csv')"
      ],
      "metadata": {
        "id": "V0ZXOA-6iUmV"
      },
      "execution_count": 79,
      "outputs": []
    },
    {
      "cell_type": "code",
      "source": [
        "print(data)"
      ],
      "metadata": {
        "colab": {
          "base_uri": "https://localhost:8080/"
        },
        "id": "h325dVhXicrs",
        "outputId": "83d70d00-855a-4ecf-bf4d-83935659081d"
      },
      "execution_count": 80,
      "outputs": [
        {
          "output_type": "stream",
          "name": "stdout",
          "text": [
            "     Unnamed: 0  Habitaciones  Baños  Estrato      Antigüedad Piso N°  \\\n",
            "0             0           NaN    NaN      NaN             NaN     NaN   \n",
            "1             1           1.0    2.0      4.0      1 a 8 años       3   \n",
            "2             2           1.0    2.0      6.0     9 a 15 años     NaN   \n",
            "3             3           NaN    NaN      NaN             NaN     NaN   \n",
            "4             4           1.0    1.0      5.0             NaN       3   \n",
            "..          ...           ...    ...      ...             ...     ...   \n",
            "425         425           3.0    1.0      3.0      1 a 8 años      16   \n",
            "426         426           3.0    3.0      4.0     9 a 15 años       5   \n",
            "427         427           2.0    1.0      4.0     9 a 15 años      15   \n",
            "428         428           3.0    2.0      4.0    16 a 30 años       3   \n",
            "429         429           3.0    3.0      5.0  más de 30 años       3   \n",
            "\n",
            "    Administración          Precio m²  Parqueaderos     Estado  \\\n",
            "0              NaN                NaN           NaN        NaN   \n",
            "1      No definida  $ 4.032.258,06*m²           NaN        NaN   \n",
            "2      No definida  $ 6.428.571,43*m²           2.0        NaN   \n",
            "3              NaN                NaN           NaN        NaN   \n",
            "4    $ 167.000 COP     $ 4.700.000*m²           2.0        NaN   \n",
            "..             ...                ...           ...        ...   \n",
            "425  $ 160.000 COP  $ 3.541.666,67*m²           1.0  Excelente   \n",
            "426  $ 300.000 COP  $ 4.429.347,83*m²           1.0  Excelente   \n",
            "427  $ 140.000 COP  $ 3.928.571,43*m²           NaN  Excelente   \n",
            "428  $ 110.000 COP  $ 5.266.666,67*m²           1.0  Excelente   \n",
            "429  $ 150.000 COP  $ 4.196.428,57*m²           1.0      Bueno   \n",
            "\n",
            "    Tipo de apartamento     Precio Área construída (m²) Área privada (m²)  \n",
            "0                   NaN  240000000                  NaN               NaN  \n",
            "1                   NaN  250000000                  62                62   \n",
            "2                   NaN  675000000                 105                 0   \n",
            "3                   NaN  647307563                  NaN               NaN  \n",
            "4                   NaN  235000000                  50                 0   \n",
            "..                  ...        ...                  ...               ...  \n",
            "425                 NaN  170000000                  48                48   \n",
            "426                 NaN  407500000                  92                92   \n",
            "427                 NaN  165000000                  42                42   \n",
            "428                 NaN  395000000                  75                75   \n",
            "429                 NaN  470000000                 112               112   \n",
            "\n",
            "[430 rows x 14 columns]\n"
          ]
        }
      ]
    },
    {
      "cell_type": "code",
      "source": [
        "data.info()"
      ],
      "metadata": {
        "colab": {
          "base_uri": "https://localhost:8080/"
        },
        "id": "ZoYIJwRyifh-",
        "outputId": "84fb8cfc-e7b5-4f01-8a4e-2bacebabe8f1"
      },
      "execution_count": 81,
      "outputs": [
        {
          "output_type": "stream",
          "name": "stdout",
          "text": [
            "<class 'pandas.core.frame.DataFrame'>\n",
            "RangeIndex: 430 entries, 0 to 429\n",
            "Data columns (total 14 columns):\n",
            " #   Column                Non-Null Count  Dtype  \n",
            "---  ------                --------------  -----  \n",
            " 0   Unnamed: 0            430 non-null    int64  \n",
            " 1   Habitaciones          272 non-null    float64\n",
            " 2   Baños                 271 non-null    float64\n",
            " 3   Estrato               309 non-null    float64\n",
            " 4   Antigüedad            217 non-null    object \n",
            " 5   Piso N°               214 non-null    object \n",
            " 6   Administración        274 non-null    object \n",
            " 7   Precio m²             274 non-null    object \n",
            " 8   Parqueaderos          212 non-null    float64\n",
            " 9   Estado                185 non-null    object \n",
            " 10  Tipo de apartamento   19 non-null     object \n",
            " 11  Precio                430 non-null    int64  \n",
            " 12  Área construída (m²)  274 non-null    object \n",
            " 13  Área privada (m²)     274 non-null    object \n",
            "dtypes: float64(4), int64(2), object(8)\n",
            "memory usage: 47.2+ KB\n"
          ]
        }
      ]
    },
    {
      "cell_type": "code",
      "source": [
        "#variables categoricas\n",
        "columnas_categoricas = data.select_dtypes(include=['object']).columns\n",
        "#variables fechas\n",
        "columnas_fechas = data.select_dtypes(include=['datetime64']).columns"
      ],
      "metadata": {
        "id": "sFmWfM7Mjn9Z"
      },
      "execution_count": 82,
      "outputs": []
    },
    {
      "cell_type": "code",
      "source": [
        "#Procesamiento de frases o palabras\n",
        "for columna in columnas_categoricas:\n",
        "  le = LabelEncoder()\n",
        "  data[columna] = le.fit_transform(data[columna])"
      ],
      "metadata": {
        "id": "GcxRaOoqkOyD"
      },
      "execution_count": 83,
      "outputs": []
    },
    {
      "cell_type": "code",
      "source": [
        "#Fechas a numeros\n",
        "for columna in columnas_fechas:\n",
        "  data[columna] = pd.to_numeric(data[columna].map(datetime.timestamp))"
      ],
      "metadata": {
        "id": "hVuep7WXkQvA"
      },
      "execution_count": 84,
      "outputs": []
    },
    {
      "cell_type": "code",
      "source": [
        "#resultado\n",
        "print(data)"
      ],
      "metadata": {
        "colab": {
          "base_uri": "https://localhost:8080/"
        },
        "id": "vHzN_Uj0kS96",
        "outputId": "ab266415-b09e-486b-f9c2-f16b0a85a8ca"
      },
      "execution_count": 85,
      "outputs": [
        {
          "output_type": "stream",
          "name": "stdout",
          "text": [
            "     Unnamed: 0  Habitaciones  Baños  Estrato  Antigüedad  Piso N°  \\\n",
            "0             0           NaN    NaN      NaN           5       17   \n",
            "1             1           1.0    2.0      4.0           0        9   \n",
            "2             2           1.0    2.0      6.0           2       17   \n",
            "3             3           NaN    NaN      NaN           5       17   \n",
            "4             4           1.0    1.0      5.0           5        9   \n",
            "..          ...           ...    ...      ...         ...      ...   \n",
            "425         425           3.0    1.0      3.0           0        7   \n",
            "426         426           3.0    3.0      4.0           2       11   \n",
            "427         427           2.0    1.0      4.0           2        6   \n",
            "428         428           3.0    2.0      4.0           1        9   \n",
            "429         429           3.0    3.0      5.0           4        9   \n",
            "\n",
            "     Administración  Precio m²  Parqueaderos  Estado  Tipo de apartamento  \\\n",
            "0               129        189           NaN       5                    3   \n",
            "1               128         47           NaN       5                    3   \n",
            "2               128        160           2.0       5                    3   \n",
            "3               129        189           NaN       5                    3   \n",
            "4                21         91           2.0       5                    3   \n",
            "..              ...        ...           ...     ...                  ...   \n",
            "425              17         24           1.0       2                    3   \n",
            "426              54         73           1.0       2                    3   \n",
            "427              13         43           NaN       2                    3   \n",
            "428               8        120           1.0       2                    3   \n",
            "429              15         56           1.0       0                    3   \n",
            "\n",
            "        Precio  Área construída (m²)  Área privada (m²)  \n",
            "0    240000000                   117                 85  \n",
            "1    250000000                    77                 56  \n",
            "2    675000000                     4                  0  \n",
            "3    647307563                   117                 85  \n",
            "4    235000000                    67                  0  \n",
            "..         ...                   ...                ...  \n",
            "425  170000000                    65                 48  \n",
            "426  407500000                   108                 81  \n",
            "427  165000000                    62                 46  \n",
            "428  395000000                    91                 68  \n",
            "429  470000000                     9                  6  \n",
            "\n",
            "[430 rows x 14 columns]\n"
          ]
        }
      ]
    },
    {
      "cell_type": "code",
      "source": [
        "data.info()"
      ],
      "metadata": {
        "colab": {
          "base_uri": "https://localhost:8080/"
        },
        "id": "tJ9GFsACksGy",
        "outputId": "ab8f6950-b4f1-41a8-cf05-706bf5aca593"
      },
      "execution_count": 86,
      "outputs": [
        {
          "output_type": "stream",
          "name": "stdout",
          "text": [
            "<class 'pandas.core.frame.DataFrame'>\n",
            "RangeIndex: 430 entries, 0 to 429\n",
            "Data columns (total 14 columns):\n",
            " #   Column                Non-Null Count  Dtype  \n",
            "---  ------                --------------  -----  \n",
            " 0   Unnamed: 0            430 non-null    int64  \n",
            " 1   Habitaciones          272 non-null    float64\n",
            " 2   Baños                 271 non-null    float64\n",
            " 3   Estrato               309 non-null    float64\n",
            " 4   Antigüedad            430 non-null    int64  \n",
            " 5   Piso N°               430 non-null    int64  \n",
            " 6   Administración        430 non-null    int64  \n",
            " 7   Precio m²             430 non-null    int64  \n",
            " 8   Parqueaderos          212 non-null    float64\n",
            " 9   Estado                430 non-null    int64  \n",
            " 10  Tipo de apartamento   430 non-null    int64  \n",
            " 11  Precio                430 non-null    int64  \n",
            " 12  Área construída (m²)  430 non-null    int64  \n",
            " 13  Área privada (m²)     430 non-null    int64  \n",
            "dtypes: float64(4), int64(10)\n",
            "memory usage: 47.2 KB\n"
          ]
        }
      ]
    },
    {
      "cell_type": "code",
      "source": [
        "#llenar datos vacios\n",
        "columnas_especificas = ['Habitaciones', 'Baños','Estrato','Parqueaderos']\n",
        "media_columnas = data[columnas_especificas].mean()\n",
        "data[columnas_especificas] = data[columnas_especificas].fillna(media_columnas)"
      ],
      "metadata": {
        "id": "aL01HjE1tMNP"
      },
      "execution_count": 87,
      "outputs": []
    },
    {
      "cell_type": "code",
      "source": [
        "data.info()"
      ],
      "metadata": {
        "colab": {
          "base_uri": "https://localhost:8080/"
        },
        "id": "IZheY0q7lvQg",
        "outputId": "1cde6406-9a20-4e59-c44b-130b6be11bbc"
      },
      "execution_count": 88,
      "outputs": [
        {
          "output_type": "stream",
          "name": "stdout",
          "text": [
            "<class 'pandas.core.frame.DataFrame'>\n",
            "RangeIndex: 430 entries, 0 to 429\n",
            "Data columns (total 14 columns):\n",
            " #   Column                Non-Null Count  Dtype  \n",
            "---  ------                --------------  -----  \n",
            " 0   Unnamed: 0            430 non-null    int64  \n",
            " 1   Habitaciones          430 non-null    float64\n",
            " 2   Baños                 430 non-null    float64\n",
            " 3   Estrato               430 non-null    float64\n",
            " 4   Antigüedad            430 non-null    int64  \n",
            " 5   Piso N°               430 non-null    int64  \n",
            " 6   Administración        430 non-null    int64  \n",
            " 7   Precio m²             430 non-null    int64  \n",
            " 8   Parqueaderos          430 non-null    float64\n",
            " 9   Estado                430 non-null    int64  \n",
            " 10  Tipo de apartamento   430 non-null    int64  \n",
            " 11  Precio                430 non-null    int64  \n",
            " 12  Área construída (m²)  430 non-null    int64  \n",
            " 13  Área privada (m²)     430 non-null    int64  \n",
            "dtypes: float64(4), int64(10)\n",
            "memory usage: 47.2 KB\n"
          ]
        }
      ]
    },
    {
      "cell_type": "code",
      "source": [
        "# Lectura de Datos\n",
        "X = data.iloc[:, :11]\n",
        "y = data.iloc[:, 11]\n",
        "m = y.size"
      ],
      "metadata": {
        "id": "YuuRUXgCwvZ_"
      },
      "execution_count": 89,
      "outputs": []
    },
    {
      "cell_type": "code",
      "source": [
        "print(X)\n",
        "print('*'*25)\n",
        "print(y)"
      ],
      "metadata": {
        "colab": {
          "base_uri": "https://localhost:8080/"
        },
        "id": "x1NBC6A6xFoC",
        "outputId": "a4fc6250-0bea-43c4-ded6-cc2427bff29b"
      },
      "execution_count": 90,
      "outputs": [
        {
          "output_type": "stream",
          "name": "stdout",
          "text": [
            "     Unnamed: 0  Habitaciones     Baños   Estrato  Antigüedad  Piso N°  \\\n",
            "0             0      2.665441  2.383764  4.789644           5       17   \n",
            "1             1      1.000000  2.000000  4.000000           0        9   \n",
            "2             2      1.000000  2.000000  6.000000           2       17   \n",
            "3             3      2.665441  2.383764  4.789644           5       17   \n",
            "4             4      1.000000  1.000000  5.000000           5        9   \n",
            "..          ...           ...       ...       ...         ...      ...   \n",
            "425         425      3.000000  1.000000  3.000000           0        7   \n",
            "426         426      3.000000  3.000000  4.000000           2       11   \n",
            "427         427      2.000000  1.000000  4.000000           2        6   \n",
            "428         428      3.000000  2.000000  4.000000           1        9   \n",
            "429         429      3.000000  3.000000  5.000000           4        9   \n",
            "\n",
            "     Administración  Precio m²  Parqueaderos  Estado  Tipo de apartamento  \n",
            "0               129        189      1.457547       5                    3  \n",
            "1               128         47      1.457547       5                    3  \n",
            "2               128        160      2.000000       5                    3  \n",
            "3               129        189      1.457547       5                    3  \n",
            "4                21         91      2.000000       5                    3  \n",
            "..              ...        ...           ...     ...                  ...  \n",
            "425              17         24      1.000000       2                    3  \n",
            "426              54         73      1.000000       2                    3  \n",
            "427              13         43      1.457547       2                    3  \n",
            "428               8        120      1.000000       2                    3  \n",
            "429              15         56      1.000000       0                    3  \n",
            "\n",
            "[430 rows x 11 columns]\n",
            "*************************\n",
            "0      240000000\n",
            "1      250000000\n",
            "2      675000000\n",
            "3      647307563\n",
            "4      235000000\n",
            "         ...    \n",
            "425    170000000\n",
            "426    407500000\n",
            "427    165000000\n",
            "428    395000000\n",
            "429    470000000\n",
            "Name: Precio, Length: 430, dtype: int64\n"
          ]
        }
      ]
    },
    {
      "cell_type": "code",
      "source": [
        "def  featureNormalize(X):\n",
        "    X_norm = X.copy()\n",
        "    mu = np.zeros(X.shape[1])\n",
        "    sigma = np.zeros(X.shape[1])\n",
        "\n",
        "    mu = np.mean(X, axis = 0)\n",
        "    sigma = np.std(X, axis = 0)\n",
        "    X_norm = (X - mu) / sigma\n",
        "\n",
        "    return X_norm, mu, sigma"
      ],
      "metadata": {
        "id": "DrrFytt2gkI8"
      },
      "execution_count": 91,
      "outputs": []
    },
    {
      "cell_type": "code",
      "source": [
        "# llama featureNormalize con los datos cargados\n",
        "X_norm, mu, sigma = featureNormalize(X)\n",
        "\n",
        "print(X)\n",
        "print('Media calculada:', mu)\n",
        "print('Desviación estandar calculada:', sigma)\n",
        "print(X_norm)"
      ],
      "metadata": {
        "colab": {
          "base_uri": "https://localhost:8080/"
        },
        "id": "MhHhItqc4YLy",
        "outputId": "9fe05534-1690-4a43-daf7-8440598e8c94"
      },
      "execution_count": 92,
      "outputs": [
        {
          "output_type": "stream",
          "name": "stdout",
          "text": [
            "     Unnamed: 0  Habitaciones     Baños   Estrato  Antigüedad  Piso N°  \\\n",
            "0             0      2.665441  2.383764  4.789644           5       17   \n",
            "1             1      1.000000  2.000000  4.000000           0        9   \n",
            "2             2      1.000000  2.000000  6.000000           2       17   \n",
            "3             3      2.665441  2.383764  4.789644           5       17   \n",
            "4             4      1.000000  1.000000  5.000000           5        9   \n",
            "..          ...           ...       ...       ...         ...      ...   \n",
            "425         425      3.000000  1.000000  3.000000           0        7   \n",
            "426         426      3.000000  3.000000  4.000000           2       11   \n",
            "427         427      2.000000  1.000000  4.000000           2        6   \n",
            "428         428      3.000000  2.000000  4.000000           1        9   \n",
            "429         429      3.000000  3.000000  5.000000           4        9   \n",
            "\n",
            "     Administración  Precio m²  Parqueaderos  Estado  Tipo de apartamento  \n",
            "0               129        189      1.457547       5                    3  \n",
            "1               128         47      1.457547       5                    3  \n",
            "2               128        160      2.000000       5                    3  \n",
            "3               129        189      1.457547       5                    3  \n",
            "4                21         91      2.000000       5                    3  \n",
            "..              ...        ...           ...     ...                  ...  \n",
            "425              17         24      1.000000       2                    3  \n",
            "426              54         73      1.000000       2                    3  \n",
            "427              13         43      1.457547       2                    3  \n",
            "428               8        120      1.000000       2                    3  \n",
            "429              15         56      1.000000       0                    3  \n",
            "\n",
            "[430 rows x 11 columns]\n",
            "Media calculada: Unnamed: 0             214.500000\n",
            "Habitaciones             2.665441\n",
            "Baños                    2.383764\n",
            "Estrato                  4.789644\n",
            "Antigüedad               3.123256\n",
            "Piso N°                 13.625581\n",
            "Administración          96.862791\n",
            "Precio m²              128.969767\n",
            "Parqueaderos             1.457547\n",
            "Estado                   3.637209\n",
            "Tipo de apartamento      2.900000\n",
            "dtype: float64\n",
            "Desviación estandar calculada: Unnamed: 0             124.129972\n",
            "Habitaciones             1.091782\n",
            "Baños                    0.838172\n",
            "Estrato                  0.872482\n",
            "Antigüedad               2.050790\n",
            "Piso N°                  4.842332\n",
            "Administración          42.004510\n",
            "Precio m²               61.958700\n",
            "Parqueaderos             0.474018\n",
            "Estado                   1.743696\n",
            "Tipo de apartamento      0.493445\n",
            "dtype: float64\n",
            "     Unnamed: 0  Habitaciones     Baños   Estrato  Antigüedad   Piso N°  \\\n",
            "0     -1.728027  4.067562e-16  0.000000  0.000000    0.915132  0.696858   \n",
            "1     -1.719971 -1.525433e+00 -0.457858 -0.905055   -1.522953 -0.955238   \n",
            "2     -1.711915 -1.525433e+00 -0.457858  1.387256   -0.547719  0.696858   \n",
            "3     -1.703859  4.067562e-16  0.000000  0.000000    0.915132  0.696858   \n",
            "4     -1.695803 -1.525433e+00 -1.650932  0.241101    0.915132 -0.955238   \n",
            "..          ...           ...       ...       ...         ...       ...   \n",
            "425    1.695803  3.064336e-01 -1.650932 -2.051210   -1.522953 -1.368262   \n",
            "426    1.703859  3.064336e-01  0.735215 -0.905055   -0.547719 -0.542214   \n",
            "427    1.711915 -6.094998e-01 -1.650932 -0.905055   -0.547719 -1.574774   \n",
            "428    1.719971  3.064336e-01 -0.457858 -0.905055   -1.035336 -0.955238   \n",
            "429    1.728027  3.064336e-01  0.735215  0.241101    0.427515 -0.955238   \n",
            "\n",
            "     Administración  Precio m²  Parqueaderos    Estado  Tipo de apartamento  \n",
            "0          0.765089   0.968875      0.000000  0.781553             0.202657  \n",
            "1          0.741283  -1.322974      0.000000  0.781553             0.202657  \n",
            "2          0.741283   0.500821      1.144372  0.781553             0.202657  \n",
            "3          0.765089   0.968875      0.000000  0.781553             0.202657  \n",
            "4         -1.806063  -0.612824      1.144372  0.781553             0.202657  \n",
            "..              ...        ...           ...       ...                  ...  \n",
            "425       -1.901291  -1.694189     -0.965253 -0.938930             0.202657  \n",
            "426       -1.020433  -0.903340     -0.965253 -0.938930             0.202657  \n",
            "427       -1.996519  -1.387533      0.000000 -0.938930             0.202657  \n",
            "428       -2.115554  -0.144770     -0.965253 -0.938930             0.202657  \n",
            "429       -1.948905  -1.177716     -0.965253 -2.085919             0.202657  \n",
            "\n",
            "[430 rows x 11 columns]\n"
          ]
        }
      ]
    },
    {
      "cell_type": "code",
      "source": [
        "# Añade el termino de interseccion a X\n",
        "# (Columna de unos para X0)\n",
        "X = np.concatenate([np.ones((m, 1)), X_norm], axis=1)"
      ],
      "metadata": {
        "id": "EB4cCmdm4bxJ"
      },
      "execution_count": 93,
      "outputs": []
    },
    {
      "cell_type": "code",
      "source": [
        "print(X)"
      ],
      "metadata": {
        "colab": {
          "base_uri": "https://localhost:8080/"
        },
        "id": "jxdWrQDC4fcD",
        "outputId": "a30dde4f-2c50-46f4-b6b8-a39cd4d026f8"
      },
      "execution_count": 94,
      "outputs": [
        {
          "output_type": "stream",
          "name": "stdout",
          "text": [
            "[[ 1.00000000e+00 -1.72802746e+00  4.06756170e-16 ...  0.00000000e+00\n",
            "   7.81552894e-01  2.02656663e-01]\n",
            " [ 1.00000000e+00 -1.71997138e+00 -1.52543331e+00 ...  0.00000000e+00\n",
            "   7.81552894e-01  2.02656663e-01]\n",
            " [ 1.00000000e+00 -1.71191531e+00 -1.52543331e+00 ...  1.14437235e+00\n",
            "   7.81552894e-01  2.02656663e-01]\n",
            " ...\n",
            " [ 1.00000000e+00  1.71191531e+00 -6.09499844e-01 ...  0.00000000e+00\n",
            "  -9.38930439e-01  2.02656663e-01]\n",
            " [ 1.00000000e+00  1.71997138e+00  3.06433623e-01 ... -9.65253198e-01\n",
            "  -9.38930439e-01  2.02656663e-01]\n",
            " [ 1.00000000e+00  1.72802746e+00  3.06433623e-01 ... -9.65253198e-01\n",
            "  -2.08591933e+00  2.02656663e-01]]\n"
          ]
        }
      ]
    },
    {
      "cell_type": "code",
      "source": [
        "def computeCostMulti(X, y, theta):\n",
        "    # Inicializa algunos valores utiles\n",
        "    m = y.shape[0] # numero de ejemplos de entrenamiento\n",
        "\n",
        "    J = 0\n",
        "\n",
        "    h = np.dot(X, theta)\n",
        "\n",
        "    J = (1/(2 * m)) * np.sum(np.square(np.dot(X, theta) - y))\n",
        "\n",
        "    return J\n"
      ],
      "metadata": {
        "id": "is_NER384kX5"
      },
      "execution_count": 95,
      "outputs": []
    },
    {
      "cell_type": "code",
      "source": [
        "def gradientDescentMulti(X, y, theta, alpha, num_iters):\n",
        "\n",
        "    # Inicializa algunos valores\n",
        "    m = y.shape[0] # numero de ejemplos de entrenamiento\n",
        "\n",
        "    # realiza una copia de theta, el cual será acutalizada por el descenso por el gradiente\n",
        "    theta = theta.copy()\n",
        "\n",
        "    J_history = []\n",
        "\n",
        "    for i in range(num_iters):\n",
        "        theta = theta - (alpha / m) * (np.dot(X, theta) - y).dot(X)\n",
        "        J_history.append(computeCostMulti(X, y, theta))\n",
        "\n",
        "    return theta, J_history"
      ],
      "metadata": {
        "id": "NTic99Il4k9H"
      },
      "execution_count": 96,
      "outputs": []
    },
    {
      "cell_type": "code",
      "source": [
        "# Elegir algun valor para alpha (probar varias alternativas)\n",
        "alpha = 0.003\n",
        "num_iters = 5000\n",
        "\n",
        "# inicializa theta y ejecuta el descenso por el gradiente\n",
        "theta = np.zeros(12)\n",
        "theta, J_history = gradientDescentMulti(X, y, theta, alpha, num_iters)\n",
        "\n",
        "# Grafica la convergencia del costo\n",
        "pyplot.plot(np.arange(len(J_history)), J_history, lw=2)\n",
        "pyplot.xlabel('Numero de iteraciones')\n",
        "pyplot.ylabel('Costo J')\n",
        "\n",
        "# Muestra los resultados del descenso por el gradiente\n",
        "print('theta calculado por el descenso por el gradiente: {:s}'.format(str(theta)))\n",
        "\n",
        "# Estimar el precio de inmuebles Medellin con distintas caracteristicas\n",
        "X_array = [1, 1, 3, 3, 5, 5, 16, 80, 160, 2, 2, 3]\n",
        "X_array[1:12] = (X_array[1:12] - mu) / sigma\n",
        "price = np.dot(X_array, theta)   # Se debe cambiar esto\n",
        "\n",
        "print('El valor predecido es (usando el descenso por el gradiente): {:.4f}'.format(price))"
      ],
      "metadata": {
        "colab": {
          "base_uri": "https://localhost:8080/",
          "height": 534
        },
        "id": "2sc2AmKF4qJQ",
        "outputId": "0253220e-f64b-4ea2-8acd-baedb0b6fc62"
      },
      "execution_count": 97,
      "outputs": [
        {
          "output_type": "stream",
          "name": "stdout",
          "text": [
            "theta calculado por el descenso por el gradiente: [ 3.99003319e+09  3.29344450e+08 -5.41702074e+09  2.23912046e+10\n",
            " -6.03523145e+09  2.26096736e+09 -5.77213199e+09 -2.99776880e+09\n",
            "  4.69546541e+09 -1.22193386e+10  3.27314578e+09  4.01599769e+09]\n",
            "El valor predecido es (usando el descenso por el gradiente): 3321791522.3824\n"
          ]
        },
        {
          "output_type": "display_data",
          "data": {
            "text/plain": [
              "<Figure size 640x480 with 1 Axes>"
            ],
            "image/png": "[encoded data removed]"
          },
          "metadata": {}
        }
      ]
    },
    {
      "cell_type": "code",
      "source": [
        "X_array = [1, 1, 3, 3, 5, 5, 16, 80, 160, 2, 2, 3]\n",
        "X_array[1:12] = (X_array[1:12] - mu) / sigma"
      ],
      "metadata": {
        "id": "pHpGapUtf4QP"
      },
      "execution_count": 98,
      "outputs": []
    },
    {
      "cell_type": "code",
      "source": [
        "X_array[1:12]"
      ],
      "metadata": {
        "colab": {
          "base_uri": "https://localhost:8080/"
        },
        "id": "c_fhRmzof56K",
        "outputId": "31da9cdc-4b4f-4c63-aa3d-966faeec26a5"
      },
      "execution_count": 99,
      "outputs": [
        {
          "output_type": "execute_result",
          "data": {
            "text/plain": [
              "[-1.719971383258929,\n",
              " 0.30643362344149283,\n",
              " 0.7352148457829893,\n",
              " 0.24110059505716427,\n",
              " 0.9151324589830793,\n",
              " 0.49034606099133504,\n",
              " -0.4014519097239725,\n",
              " 0.5008212350573323,\n",
              " 1.1443723479415695,\n",
              " -0.9389304388449189,\n",
              " 0.20265666290094472]"
            ]
          },
          "metadata": {},
          "execution_count": 99
        }
      ]
    },
    {
      "cell_type": "code",
      "source": [
        "def normalEqn(X, y):\n",
        "\n",
        "    theta = np.zeros(X.shape[1])\n",
        "\n",
        "    theta = np.dot(np.dot(np.linalg.inv(np.dot(X.T,X)),X.T),y)\n",
        "\n",
        "    return theta"
      ],
      "metadata": {
        "id": "_MMoIdODf9FN"
      },
      "execution_count": 100,
      "outputs": []
    },
    {
      "cell_type": "code",
      "source": [
        "# Calcula los parametros con la ecuación de la normal\n",
        "theta = normalEqn(X, y);\n",
        "\n",
        "# Muestra los resultados optenidos a partir de la aplicación de la ecuación de la normal\n",
        "print('Theta calculado a partir de la ecuación de la normal: {:s}'.format(str(theta)));\n",
        "\n",
        "# Estimar el precio de los inmuebles Medellin con tres habitaciones\n",
        "\n",
        "X_array = [1, 1, 3, 3, 5, 5, 16, 80, 160, 2, 2, 3]\n",
        "price = np.dot(X_array, theta)\n",
        "\n",
        "print('Precio predecido de los inmuebles Medellin con tres habitaciones  (usando la ecuación de la normal): ${:.0f}'.format(price))"
      ],
      "metadata": {
        "colab": {
          "base_uri": "https://localhost:8080/"
        },
        "id": "E7px4OMrf9un",
        "outputId": "5cb7cdd1-14c9-44d0-9589-5d1fdbe645ca"
      },
      "execution_count": 101,
      "outputs": [
        {
          "output_type": "stream",
          "name": "stdout",
          "text": [
            "Theta calculado a partir de la ecuación de la normal: [ 3.99003438e+09  3.38049342e+08 -5.48786791e+09  2.25520072e+10\n",
            " -6.12649506e+09  2.21378383e+09 -5.76352976e+09 -3.02189098e+09\n",
            "  4.73787088e+09 -1.22911683e+10  3.28763776e+09  4.05302667e+09]\n",
            "Precio predecido de los inmuebles Medellin con tres habitaciones  (usando la ecuación de la normal): $454200551095\n"
          ]
        }
      ]
    }
  ]
}