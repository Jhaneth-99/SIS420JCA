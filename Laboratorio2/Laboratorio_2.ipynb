{
  "nbformat": 4,
  "nbformat_minor": 0,
  "metadata": {
    "colab": {
      "provenance": []
    },
    "kernelspec": {
      "name": "python3",
      "display_name": "Python 3"
    },
    "language_info": {
      "name": "python"
    }
  },
  "cells": [
    {
      "cell_type": "code",
      "execution_count": 2,
      "metadata": {
        "id": "qUxgZvq33-ID"
      },
      "outputs": [],
      "source": [
        "# utilizado para manejos de directorios y rutas\n",
        "import os\n",
        "\n",
        "# Computacion vectorial y cientifica para python\n",
        "import numpy as np\n",
        "\n",
        "# Librerias para graficación (trazado de gráficos)\n",
        "from matplotlib import pyplot\n",
        "from mpl_toolkits.mplot3d import Axes3D  # Necesario para graficar superficies 3D\n",
        "\n",
        "# llama a matplotlib a embeber graficas dentro de los cuadernillos\n",
        "%matplotlib inline"
      ]
    },
    {
      "cell_type": "code",
      "source": [
        "import pandas as pd\n",
        "from sklearn.preprocessing import LabelEncoder\n",
        "from datetime import datetime"
      ],
      "metadata": {
        "id": "3zeLCpwjiQCT"
      },
      "execution_count": 3,
      "outputs": []
    },
    {
      "cell_type": "code",
      "source": [
        "#Carga de dataset\n",
        "data = pd.read_csv('/content/Mobile phone price.csv')"
      ],
      "metadata": {
        "id": "V0ZXOA-6iUmV"
      },
      "execution_count": 4,
      "outputs": []
    },
    {
      "cell_type": "code",
      "source": [
        "print(data)"
      ],
      "metadata": {
        "colab": {
          "base_uri": "https://localhost:8080/"
        },
        "id": "h325dVhXicrs",
        "outputId": "0edbce6c-792b-4c8a-d700-1d7eabf4fca2"
      },
      "execution_count": 5,
      "outputs": [
        {
          "output_type": "stream",
          "name": "stdout",
          "text": [
            "       Brand              Model Storage    RAM  Screen Size (inches)  \\\n",
            "0      Apple      iPhone 13 Pro   128 GB   6 GB                  6.1   \n",
            "1    Samsung   Galaxy S21 Ultra   256 GB  12 GB                  6.8   \n",
            "2    OnePlus              9 Pro   128 GB   8 GB                  6.7   \n",
            "3     Xiaomi  Redmi Note 10 Pro   128 GB   6 GB                 6.67   \n",
            "4     Google            Pixel 6   128 GB   8 GB                  6.4   \n",
            "..       ...                ...      ...    ...                  ...   \n",
            "402  Samsung   Galaxy Note20 5G      128      8                  6.7   \n",
            "403   Xiaomi      Mi 10 Lite 5G      128      6                 6.57   \n",
            "404    Apple  iPhone 12 Pro Max      128      6                  6.7   \n",
            "405     Oppo              Reno3      128      8                  6.4   \n",
            "406  Samsung    Galaxy S10 Lite      128      6                  6.7   \n",
            "\n",
            "            Camera (MP)  Battery Capacity (mAh) Price ($)  \n",
            "0          12 + 12 + 12                    3095       999  \n",
            "1    108 + 10 + 10 + 12                    5000      1199  \n",
            "2       48 + 50 + 8 + 2                    4500       899  \n",
            "3        64 + 8 + 5 + 2                    5020       279  \n",
            "4             50 + 12.2                    4614       799  \n",
            "..                  ...                     ...       ...  \n",
            "402            12+64+12                    4300      1049  \n",
            "403            48+8+2+2                    4160       349  \n",
            "404            12+12+12                    3687      1099  \n",
            "405           48+13+8+2                    4025       429  \n",
            "406             48+12+5                    4500       649  \n",
            "\n",
            "[407 rows x 8 columns]\n"
          ]
        }
      ]
    },
    {
      "cell_type": "code",
      "source": [
        "data.info()"
      ],
      "metadata": {
        "colab": {
          "base_uri": "https://localhost:8080/"
        },
        "id": "ZoYIJwRyifh-",
        "outputId": "44261dc5-7d56-4492-9fea-227bca02ad12"
      },
      "execution_count": 6,
      "outputs": [
        {
          "output_type": "stream",
          "name": "stdout",
          "text": [
            "<class 'pandas.core.frame.DataFrame'>\n",
            "RangeIndex: 407 entries, 0 to 406\n",
            "Data columns (total 8 columns):\n",
            " #   Column                  Non-Null Count  Dtype \n",
            "---  ------                  --------------  ----- \n",
            " 0   Brand                   407 non-null    object\n",
            " 1   Model                   407 non-null    object\n",
            " 2   Storage                 407 non-null    object\n",
            " 3   RAM                     407 non-null    object\n",
            " 4   Screen Size (inches)    407 non-null    object\n",
            " 5   Camera (MP)             407 non-null    object\n",
            " 6   Battery Capacity (mAh)  407 non-null    int64 \n",
            " 7   Price ($)               407 non-null    object\n",
            "dtypes: int64(1), object(7)\n",
            "memory usage: 25.6+ KB\n"
          ]
        }
      ]
    },
    {
      "cell_type": "code",
      "source": [
        "#variables categoricas\n",
        "columnas_categoricas = data.select_dtypes(include=['object']).columns"
      ],
      "metadata": {
        "id": "sFmWfM7Mjn9Z"
      },
      "execution_count": 7,
      "outputs": []
    },
    {
      "cell_type": "code",
      "source": [
        "#Procesamiento de frases o palabras\n",
        "for columna in columnas_categoricas:\n",
        "  le = LabelEncoder()\n",
        "  data[columna] = le.fit_transform(data[columna])"
      ],
      "metadata": {
        "id": "GcxRaOoqkOyD"
      },
      "execution_count": 8,
      "outputs": []
    },
    {
      "cell_type": "code",
      "source": [
        "#resultado\n",
        "print(data)"
      ],
      "metadata": {
        "colab": {
          "base_uri": "https://localhost:8080/"
        },
        "id": "vHzN_Uj0kS96",
        "outputId": "af5e8afe-cf23-494c-b6aa-2e5838bc8e02"
      },
      "execution_count": 9,
      "outputs": [
        {
          "output_type": "stream",
          "name": "stdout",
          "text": [
            "     Brand  Model  Storage   RAM   Screen Size (inches)  Camera (MP)  \\\n",
            "0        0    232         1    15                     8           15   \n",
            "1       12    100         4     1                    35            0   \n",
            "2        9     19         1    18                    31           53   \n",
            "3       15    178         1    15                    30          119   \n",
            "4        4    162         1    18                    15           87   \n",
            "..     ...    ...       ...   ...                   ...          ...   \n",
            "402     12     95         0    17                    31           19   \n",
            "403     15    111         0    14                    26           70   \n",
            "404      0    229         0    14                    31           17   \n",
            "405     10    188         0    17                    15           59   \n",
            "406     12     96         0    14                    31           57   \n",
            "\n",
            "     Battery Capacity (mAh)  Price ($)  \n",
            "0                      3095         88  \n",
            "1                      5000         45  \n",
            "2                      4500         85  \n",
            "3                      5020         63  \n",
            "4                      4614         84  \n",
            "..                      ...        ...  \n",
            "402                    4300         42  \n",
            "403                    4160         67  \n",
            "404                    3687         43  \n",
            "405                    4025         73  \n",
            "406                    4500         79  \n",
            "\n",
            "[407 rows x 8 columns]\n"
          ]
        }
      ]
    },
    {
      "cell_type": "code",
      "source": [
        "data.info()"
      ],
      "metadata": {
        "colab": {
          "base_uri": "https://localhost:8080/"
        },
        "id": "tJ9GFsACksGy",
        "outputId": "447b5c6a-3bf7-4578-f9a4-9d11ab4f93ef"
      },
      "execution_count": 10,
      "outputs": [
        {
          "output_type": "stream",
          "name": "stdout",
          "text": [
            "<class 'pandas.core.frame.DataFrame'>\n",
            "RangeIndex: 407 entries, 0 to 406\n",
            "Data columns (total 8 columns):\n",
            " #   Column                  Non-Null Count  Dtype\n",
            "---  ------                  --------------  -----\n",
            " 0   Brand                   407 non-null    int64\n",
            " 1   Model                   407 non-null    int64\n",
            " 2   Storage                 407 non-null    int64\n",
            " 3   RAM                     407 non-null    int64\n",
            " 4   Screen Size (inches)    407 non-null    int64\n",
            " 5   Camera (MP)             407 non-null    int64\n",
            " 6   Battery Capacity (mAh)  407 non-null    int64\n",
            " 7   Price ($)               407 non-null    int64\n",
            "dtypes: int64(8)\n",
            "memory usage: 25.6 KB\n"
          ]
        }
      ]
    },
    {
      "cell_type": "code",
      "source": [
        "# Lectura de Datos\n",
        "X = data.iloc[:, :7]\n",
        "y = data.iloc[:, 7]\n",
        "m = y.size"
      ],
      "metadata": {
        "id": "YuuRUXgCwvZ_"
      },
      "execution_count": 11,
      "outputs": []
    },
    {
      "cell_type": "code",
      "source": [
        "print(X)\n",
        "print('*'*25)\n",
        "print(y)"
      ],
      "metadata": {
        "colab": {
          "base_uri": "https://localhost:8080/"
        },
        "id": "x1NBC6A6xFoC",
        "outputId": "7e43ee7b-f62f-420b-8fa1-49a1ec8c0cbd"
      },
      "execution_count": 12,
      "outputs": [
        {
          "output_type": "stream",
          "name": "stdout",
          "text": [
            "     Brand  Model  Storage   RAM   Screen Size (inches)  Camera (MP)  \\\n",
            "0        0    232         1    15                     8           15   \n",
            "1       12    100         4     1                    35            0   \n",
            "2        9     19         1    18                    31           53   \n",
            "3       15    178         1    15                    30          119   \n",
            "4        4    162         1    18                    15           87   \n",
            "..     ...    ...       ...   ...                   ...          ...   \n",
            "402     12     95         0    17                    31           19   \n",
            "403     15    111         0    14                    26           70   \n",
            "404      0    229         0    14                    31           17   \n",
            "405     10    188         0    17                    15           59   \n",
            "406     12     96         0    14                    31           57   \n",
            "\n",
            "     Battery Capacity (mAh)  \n",
            "0                      3095  \n",
            "1                      5000  \n",
            "2                      4500  \n",
            "3                      5020  \n",
            "4                      4614  \n",
            "..                      ...  \n",
            "402                    4300  \n",
            "403                    4160  \n",
            "404                    3687  \n",
            "405                    4025  \n",
            "406                    4500  \n",
            "\n",
            "[407 rows x 7 columns]\n",
            "*************************\n",
            "0      88\n",
            "1      45\n",
            "2      85\n",
            "3      63\n",
            "4      84\n",
            "       ..\n",
            "402    42\n",
            "403    67\n",
            "404    43\n",
            "405    73\n",
            "406    79\n",
            "Name: Price ($), Length: 407, dtype: int64\n"
          ]
        }
      ]
    },
    {
      "cell_type": "code",
      "source": [
        "def  featureNormalize(X):\n",
        "    X_norm = X.copy()\n",
        "    mu = np.zeros(X.shape[1])\n",
        "    sigma = np.zeros(X.shape[1])\n",
        "\n",
        "    mu = np.mean(X, axis = 0)\n",
        "    sigma = np.std(X, axis = 0)\n",
        "    X_norm = (X - mu) / sigma\n",
        "\n",
        "    return X_norm, mu, sigma\n"
      ],
      "metadata": {
        "id": "yko5U-OmD387"
      },
      "execution_count": 16,
      "outputs": []
    },
    {
      "cell_type": "code",
      "source": [
        "# llama featureNormalize con los datos cargados\n",
        "X_norm, mu, sigma = featureNormalize(X)\n",
        "\n",
        "print(X)\n",
        "print('Media calculada:', mu)\n",
        "print('Desviación estandar calculada:', sigma)\n",
        "print(X_norm)"
      ],
      "metadata": {
        "colab": {
          "base_uri": "https://localhost:8080/"
        },
        "id": "NUIfDp0UDBk9",
        "outputId": "dd5dcb23-b81a-4499-e8ae-909731483c00"
      },
      "execution_count": 17,
      "outputs": [
        {
          "output_type": "stream",
          "name": "stdout",
          "text": [
            "     Brand  Model  Storage   RAM   Screen Size (inches)  Camera (MP)  \\\n",
            "0        0    232         1    15                     8           15   \n",
            "1       12    100         4     1                    35            0   \n",
            "2        9     19         1    18                    31           53   \n",
            "3       15    178         1    15                    30          119   \n",
            "4        4    162         1    18                    15           87   \n",
            "..     ...    ...       ...   ...                   ...          ...   \n",
            "402     12     95         0    17                    31           19   \n",
            "403     15    111         0    14                    26           70   \n",
            "404      0    229         0    14                    31           17   \n",
            "405     10    188         0    17                    15           59   \n",
            "406     12     96         0    14                    31           57   \n",
            "\n",
            "     Battery Capacity (mAh)  \n",
            "0                      3095  \n",
            "1                      5000  \n",
            "2                      4500  \n",
            "3                      5020  \n",
            "4                      4614  \n",
            "..                      ...  \n",
            "402                    4300  \n",
            "403                    4160  \n",
            "404                    3687  \n",
            "405                    4025  \n",
            "406                    4500  \n",
            "\n",
            "[407 rows x 7 columns]\n",
            "Media calculada: Brand                       10.142506\n",
            "Model                      118.211302\n",
            "Storage                      4.083538\n",
            "RAM                         12.842752\n",
            "Screen Size (inches)        21.437346\n",
            "Camera (MP)                 71.454545\n",
            "Battery Capacity (mAh)    4676.476658\n",
            "dtype: float64\n",
            "Desviación estandar calculada: Brand                       4.174844\n",
            "Model                      70.448856\n",
            "Storage                     4.229056\n",
            "RAM                         4.662553\n",
            "Screen Size (inches)        7.900821\n",
            "Camera (MP)                41.520988\n",
            "Battery Capacity (mAh)    796.213758\n",
            "dtype: float64\n",
            "        Brand     Model  Storage       RAM   Screen Size (inches)  \\\n",
            "0   -2.429433  1.615196 -0.729132  0.462675             -1.700753   \n",
            "1    0.444925 -0.258504 -0.019753 -2.539972              1.716613   \n",
            "2   -0.273664 -1.408274 -0.729132  1.106100              1.210337   \n",
            "3    1.163515  0.848682 -0.729132  0.462675              1.083768   \n",
            "4   -1.471314  0.621567 -0.729132  1.106100             -0.814769   \n",
            "..        ...       ...       ...       ...                   ...   \n",
            "402  0.444925 -0.329477 -0.965591  0.891625              1.210337   \n",
            "403  1.163515 -0.102362 -0.965591  0.248201              0.577491   \n",
            "404 -2.429433  1.572612 -0.965591  0.248201              1.210337   \n",
            "405 -0.034134  0.990629 -0.965591  0.891625             -0.814769   \n",
            "406  0.444925 -0.315283 -0.965591  0.248201              1.210337   \n",
            "\n",
            "     Camera (MP)  Battery Capacity (mAh)  \n",
            "0      -1.359663               -1.986246  \n",
            "1      -1.720926                0.406327  \n",
            "2      -0.444463               -0.221645  \n",
            "3       1.145095                0.431446  \n",
            "4       0.374400               -0.078467  \n",
            "..           ...                     ...  \n",
            "402    -1.263326               -0.472834  \n",
            "403    -0.035032               -0.648666  \n",
            "404    -1.311494               -1.242727  \n",
            "405    -0.299958               -0.818218  \n",
            "406    -0.348126               -0.221645  \n",
            "\n",
            "[407 rows x 7 columns]\n"
          ]
        }
      ]
    },
    {
      "cell_type": "code",
      "source": [
        "# Añade el termino de interseccion a X\n",
        "# (Columna de unos para X0)\n",
        "X = np.concatenate([np.ones((m, 1)), X_norm], axis=1)"
      ],
      "metadata": {
        "id": "EB4cCmdm4bxJ"
      },
      "execution_count": 18,
      "outputs": []
    },
    {
      "cell_type": "code",
      "source": [
        "print(X)"
      ],
      "metadata": {
        "colab": {
          "base_uri": "https://localhost:8080/"
        },
        "id": "jxdWrQDC4fcD",
        "outputId": "ec8d1c74-174a-495c-deea-235a02c0ee6d"
      },
      "execution_count": 14,
      "outputs": [
        {
          "output_type": "stream",
          "name": "stdout",
          "text": [
            "     Brand  Model  Storage   RAM   Screen Size (inches)  Camera (MP)  \\\n",
            "0        0    232         1    15                     8           15   \n",
            "1       12    100         4     1                    35            0   \n",
            "2        9     19         1    18                    31           53   \n",
            "3       15    178         1    15                    30          119   \n",
            "4        4    162         1    18                    15           87   \n",
            "..     ...    ...       ...   ...                   ...          ...   \n",
            "402     12     95         0    17                    31           19   \n",
            "403     15    111         0    14                    26           70   \n",
            "404      0    229         0    14                    31           17   \n",
            "405     10    188         0    17                    15           59   \n",
            "406     12     96         0    14                    31           57   \n",
            "\n",
            "     Battery Capacity (mAh)  \n",
            "0                      3095  \n",
            "1                      5000  \n",
            "2                      4500  \n",
            "3                      5020  \n",
            "4                      4614  \n",
            "..                      ...  \n",
            "402                    4300  \n",
            "403                    4160  \n",
            "404                    3687  \n",
            "405                    4025  \n",
            "406                    4500  \n",
            "\n",
            "[407 rows x 7 columns]\n"
          ]
        }
      ]
    },
    {
      "cell_type": "code",
      "source": [
        "def computeCostMulti(X, y, theta):\n",
        "    # Inicializa algunos valores utiles\n",
        "    m = y.shape[0] # numero de ejemplos de entrenamiento\n",
        "\n",
        "    J = 0\n",
        "\n",
        "    h = np.dot(X, theta)\n",
        "\n",
        "    J = (1/(2 * m)) * np.sum(np.square(np.dot(X, theta) - y))\n",
        "\n",
        "    return J\n"
      ],
      "metadata": {
        "id": "is_NER384kX5"
      },
      "execution_count": 19,
      "outputs": []
    },
    {
      "cell_type": "code",
      "source": [
        "def gradientDescentMulti(X, y, theta, alpha, num_iters):\n",
        "\n",
        "    # Inicializa algunos valores\n",
        "    m = y.shape[0] # numero de ejemplos de entrenamiento\n",
        "\n",
        "    # realiza una copia de theta, el cual será acutalizada por el descenso por el gradiente\n",
        "    theta = theta.copy()\n",
        "\n",
        "    J_history = []\n",
        "\n",
        "    for i in range(num_iters):\n",
        "        theta = theta - (alpha / m) * (np.dot(X, theta) - y).dot(X)\n",
        "        J_history.append(computeCostMulti(X, y, theta))\n",
        "\n",
        "    return theta, J_history"
      ],
      "metadata": {
        "id": "NTic99Il4k9H"
      },
      "execution_count": 20,
      "outputs": []
    },
    {
      "cell_type": "code",
      "source": [
        "alpha = 0.001\n",
        "num_iters = 4500\n",
        "\n",
        "# inicializa theta y ejecuta el descenso por el gradiente\n",
        "theta = np.zeros(8)\n",
        "theta, J_history = gradientDescentMulti(X, y, theta, alpha, num_iters)\n",
        "\n",
        "# Grafica la convergencia del costo\n",
        "pyplot.plot(np.arange(len(J_history)), J_history, lw=2)\n",
        "pyplot.xlabel('Numero de iteraciones')\n",
        "pyplot.ylabel('Costo J')\n",
        "\n",
        "# Muestra los resultados del descenso por el gradiente\n",
        "print('theta calculado por el descenso por el gradiente: {:s}'.format(str(theta)))\n",
        "\n",
        "# Estimar el precio del teléfono movil con distintas caracteristicas\n",
        "X_array = [1, 1, 245, 4, 17, 9, 1.18, 4300]\n",
        "X_array[1:8] = (X_array[1:8] - mu) / sigma\n",
        "price = np.dot(X_array, theta)\n",
        "\n",
        "print('El valor predecido es (usando el descenso por el gradiente): {:.4f}'.format(price))"
      ],
      "metadata": {
        "colab": {
          "base_uri": "https://localhost:8080/",
          "height": 501
        },
        "id": "2sc2AmKF4qJQ",
        "outputId": "73bded26-84fe-4543-a9f6-8fe58c5c3dfd"
      },
      "execution_count": 21,
      "outputs": [
        {
          "output_type": "stream",
          "name": "stdout",
          "text": [
            "theta calculado por el descenso por el gradiente: [ 41.13112981  -3.82837339   0.61197134 -12.5171931   -3.41027633\n",
            "   1.65205022  -2.99845132  -8.86313085]\n",
            "El valor predecido es (usando el descenso por el gradiente): 54.4879\n"
          ]
        },
        {
          "output_type": "display_data",
          "data": {
            "text/plain": [
              "<Figure size 640x480 with 1 Axes>"
            ],
            "image/png": "[encoded data removed]"
          },
          "metadata": {}
        }
      ]
    },
    {
      "cell_type": "code",
      "source": [
        "X_array = [1, 1, 245, 4, 17, 9, 1.18, 4300]\n",
        "X_array[1:8] = (X_array[1:8] - mu) / sigma"
      ],
      "metadata": {
        "id": "pHpGapUtf4QP"
      },
      "execution_count": 22,
      "outputs": []
    },
    {
      "cell_type": "code",
      "source": [
        "X_array[1:8]"
      ],
      "metadata": {
        "colab": {
          "base_uri": "https://localhost:8080/"
        },
        "id": "c_fhRmzof56K",
        "outputId": "561dcda0-d721-43fb-a051-b39d77341795"
      },
      "execution_count": 23,
      "outputs": [
        {
          "output_type": "execute_result",
          "data": {
            "text/plain": [
              "[-2.1899035925100696,\n",
              " 1.7997268450291208,\n",
              " -0.019753364991888518,\n",
              " 0.8916248519302953,\n",
              " -1.5741839761096637,\n",
              " -1.6925066004381821,\n",
              " -0.4728336516416878]"
            ]
          },
          "metadata": {},
          "execution_count": 23
        }
      ]
    },
    {
      "cell_type": "code",
      "source": [
        "#Carga de dataset\n",
        "data = pd.read_csv('/content/Mobile phone price.csv')"
      ],
      "metadata": {
        "id": "mkyKObWNL6xa"
      },
      "execution_count": 24,
      "outputs": []
    },
    {
      "cell_type": "code",
      "source": [
        "#variables categoricas\n",
        "columnas_categoricas = data.select_dtypes(include=['object']).columns\n",
        "#variables fechas\n",
        "columnas_fechas = data.select_dtypes(include=['datetime64']).columns"
      ],
      "metadata": {
        "id": "HmcLpXp9MoH0"
      },
      "execution_count": 25,
      "outputs": []
    },
    {
      "cell_type": "code",
      "source": [
        "#Procesamiento de frases o palabras\n",
        "for columna in columnas_categoricas:\n",
        "  le = LabelEncoder()\n",
        "  data[columna] = le.fit_transform(data[columna])"
      ],
      "metadata": {
        "id": "WbWqCdsUMtbo"
      },
      "execution_count": 26,
      "outputs": []
    },
    {
      "cell_type": "code",
      "source": [
        "# Generar un nuevo dataset con la columna movida\n",
        "nuevo_dataset = data.copy()\n",
        "\n",
        "# Guardar el nuevo DataFrame en un archivo CSV\n",
        "nuevo_dataset.to_csv('Mobile phone price2.csv', index=False)\n",
        "\n",
        "print(\"Archivo 'Mobile phone price2.csv' creado exitosamente.\")"
      ],
      "metadata": {
        "colab": {
          "base_uri": "https://localhost:8080/"
        },
        "id": "afrQKVkvN3Vt",
        "outputId": "b2fd59d8-019e-477f-d494-997eec0835f7"
      },
      "execution_count": 27,
      "outputs": [
        {
          "output_type": "stream",
          "name": "stdout",
          "text": [
            "Archivo 'Mobile phone price2.csv' creado exitosamente.\n"
          ]
        }
      ]
    },
    {
      "cell_type": "code",
      "source": [
        "#Carga de dataset\n",
        "data = pd.read_csv('/content/Mobile phone price2.csv')"
      ],
      "metadata": {
        "id": "cH7o-MrNOBOF"
      },
      "execution_count": 28,
      "outputs": []
    },
    {
      "cell_type": "code",
      "source": [
        "print(data)"
      ],
      "metadata": {
        "colab": {
          "base_uri": "https://localhost:8080/"
        },
        "id": "W3r9mN9FOCf_",
        "outputId": "e915954b-2da9-44a5-e006-63ce6d0d30e2"
      },
      "execution_count": 29,
      "outputs": [
        {
          "output_type": "stream",
          "name": "stdout",
          "text": [
            "     Brand  Model  Storage   RAM   Screen Size (inches)  Camera (MP)  \\\n",
            "0        0    232         1    15                     8           15   \n",
            "1       12    100         4     1                    35            0   \n",
            "2        9     19         1    18                    31           53   \n",
            "3       15    178         1    15                    30          119   \n",
            "4        4    162         1    18                    15           87   \n",
            "..     ...    ...       ...   ...                   ...          ...   \n",
            "402     12     95         0    17                    31           19   \n",
            "403     15    111         0    14                    26           70   \n",
            "404      0    229         0    14                    31           17   \n",
            "405     10    188         0    17                    15           59   \n",
            "406     12     96         0    14                    31           57   \n",
            "\n",
            "     Battery Capacity (mAh)  Price ($)  \n",
            "0                      3095         88  \n",
            "1                      5000         45  \n",
            "2                      4500         85  \n",
            "3                      5020         63  \n",
            "4                      4614         84  \n",
            "..                      ...        ...  \n",
            "402                    4300         42  \n",
            "403                    4160         67  \n",
            "404                    3687         43  \n",
            "405                    4025         73  \n",
            "406                    4500         79  \n",
            "\n",
            "[407 rows x 8 columns]\n"
          ]
        }
      ]
    },
    {
      "cell_type": "code",
      "source": [
        "# Lectura de Datos\n",
        "X = data.iloc[:, :7]\n",
        "y = data.iloc[:, 7]\n",
        "m = y.size"
      ],
      "metadata": {
        "id": "WBXdprvkM71B"
      },
      "execution_count": 30,
      "outputs": []
    },
    {
      "cell_type": "code",
      "source": [
        "print(X)\n",
        "print('*'*25)\n",
        "print(y)"
      ],
      "metadata": {
        "colab": {
          "base_uri": "https://localhost:8080/"
        },
        "id": "6RMQ4dhdNM-P",
        "outputId": "dfabf4a6-1680-4ca6-df1b-85ae715a9a70"
      },
      "execution_count": 31,
      "outputs": [
        {
          "output_type": "stream",
          "name": "stdout",
          "text": [
            "     Brand  Model  Storage   RAM   Screen Size (inches)  Camera (MP)  \\\n",
            "0        0    232         1    15                     8           15   \n",
            "1       12    100         4     1                    35            0   \n",
            "2        9     19         1    18                    31           53   \n",
            "3       15    178         1    15                    30          119   \n",
            "4        4    162         1    18                    15           87   \n",
            "..     ...    ...       ...   ...                   ...          ...   \n",
            "402     12     95         0    17                    31           19   \n",
            "403     15    111         0    14                    26           70   \n",
            "404      0    229         0    14                    31           17   \n",
            "405     10    188         0    17                    15           59   \n",
            "406     12     96         0    14                    31           57   \n",
            "\n",
            "     Battery Capacity (mAh)  \n",
            "0                      3095  \n",
            "1                      5000  \n",
            "2                      4500  \n",
            "3                      5020  \n",
            "4                      4614  \n",
            "..                      ...  \n",
            "402                    4300  \n",
            "403                    4160  \n",
            "404                    3687  \n",
            "405                    4025  \n",
            "406                    4500  \n",
            "\n",
            "[407 rows x 7 columns]\n",
            "*************************\n",
            "0      88\n",
            "1      45\n",
            "2      85\n",
            "3      63\n",
            "4      84\n",
            "       ..\n",
            "402    42\n",
            "403    67\n",
            "404    43\n",
            "405    73\n",
            "406    79\n",
            "Name: Price ($), Length: 407, dtype: int64\n"
          ]
        }
      ]
    },
    {
      "cell_type": "code",
      "source": [
        "X = np.concatenate([np.ones((m, 1)), X], axis=1)"
      ],
      "metadata": {
        "id": "AfIl12w_PxG_"
      },
      "execution_count": 32,
      "outputs": []
    },
    {
      "cell_type": "code",
      "source": [
        "# importante que para usar m>n, evitar datos redundantes, no se normaliza\n",
        "def normalEqn(X, y):\n",
        "\n",
        "    theta = np.zeros(X.shape[1])\n",
        "\n",
        "    theta = np.dot(np.dot(np.linalg.inv(np.dot(X.T,X)),X.T),y)\n",
        "\n",
        "    return theta"
      ],
      "metadata": {
        "id": "_MMoIdODf9FN"
      },
      "execution_count": 33,
      "outputs": []
    },
    {
      "cell_type": "code",
      "source": [
        "# Calcula los parametros con la ecuación de la normal\n",
        "theta = normalEqn(X, y);\n",
        "\n",
        "# Muestra los resultados optenidos a partir de la aplicación de la ecuación de la normal\n",
        "print('Theta calculado a partir de la ecuación de la normal: {:s}'.format(str(theta)));\n",
        "\n",
        "# Estimar el precio del teléfono móvil\n",
        "\n",
        "X_array = [1, 1, 245, 4, 17, 9, 1.18, 4300]\n",
        "price = np.dot(X_array, theta)\n",
        "\n",
        "print('Precio predecido para el teléfono móvil (usando la ecuación de la normal) es: ${:.0f}'.format(price))"
      ],
      "metadata": {
        "colab": {
          "base_uri": "https://localhost:8080/"
        },
        "id": "E7px4OMrf9un",
        "outputId": "94c61c10-33cf-454d-8920-d2f1b6566ac1"
      },
      "execution_count": 34,
      "outputs": [
        {
          "output_type": "stream",
          "name": "stdout",
          "text": [
            "Theta calculado a partir de la ecuación de la normal: [ 1.27696431e+02 -8.20891668e-01  6.09891836e-03 -3.04581539e+00\n",
            " -7.98237305e-01  2.20966116e-01 -7.32517762e-02 -1.18278884e-02]\n",
            "Precio predecido para el teléfono móvil (usando la ecuación de la normal) es: $54\n"
          ]
        }
      ]
    },
    {
      "cell_type": "code",
      "source": [
        "# Se puede observar que el precio predecido por el desenso gradiente es: 54.4879\n",
        "# Y el precio por la ecuación normal es: 54\n",
        "# La diferencia es 0.4879, se puede ver que es mínima"
      ],
      "metadata": {
        "id": "3KBjjN3xu5O1"
      },
      "execution_count": null,
      "outputs": []
    }
  ]
}