{
  "nbformat": 4,
  "nbformat_minor": 0,
  "metadata": {
    "colab": {
      "provenance": []
    },
    "kernelspec": {
      "name": "python3",
      "display_name": "Python 3"
    },
    "language_info": {
      "name": "python"
    }
  },
  "cells": [
    {
      "cell_type": "code",
      "execution_count": 4,
      "metadata": {
        "id": "IKN0iwZPbieT"
      },
      "outputs": [],
      "source": [
        "# utilizado para manejos de directorios y rutas\n",
        "import os\n",
        "# Importar libreria para dividir entrenamiento y prueba\n",
        "from sklearn.model_selection import train_test_split\n",
        "\n",
        "# Computacion vectorial y cientifica para python\n",
        "import numpy as np\n",
        "\n",
        "# Librerias para graficación (trazado de gráficos)\n",
        "from matplotlib import pyplot\n",
        "from mpl_toolkits.mplot3d import Axes3D  # Necesario para graficar superficies 3D\n",
        "\n",
        "# llama a matplotlib a embeber graficas dentro de los cuadernillos\n",
        "%matplotlib inline"
      ]
    },
    {
      "cell_type": "code",
      "source": [
        "import pandas as pd\n",
        "from sklearn.preprocessing import LabelEncoder\n",
        "from datetime import datetime"
      ],
      "metadata": {
        "id": "aXadhRosh5oo"
      },
      "execution_count": 5,
      "outputs": []
    },
    {
      "cell_type": "code",
      "source": [
        "#Carga de dataset\n",
        "data = pd.read_csv('/content/glaucoma.csv')"
      ],
      "metadata": {
        "id": "EpQpgueYh6AB"
      },
      "execution_count": 6,
      "outputs": []
    },
    {
      "cell_type": "code",
      "source": [
        "print(data)"
      ],
      "metadata": {
        "colab": {
          "base_uri": "https://localhost:8080/"
        },
        "id": "TlLrNlTpiHSs",
        "outputId": "6550f4dd-f0d6-49e0-dbdb-6bd0e470f91c"
      },
      "execution_count": 7,
      "outputs": [
        {
          "output_type": "stream",
          "name": "stdout",
          "text": [
            "    Filename  ExpCDR Eye Set  Glaucoma\n",
            "0    001.jpg  0.7097  OD   A         0\n",
            "1    002.jpg  0.6953  OS   A         0\n",
            "2    003.jpg  0.9629  OS   A         0\n",
            "3    004.jpg  0.7246  OD   A         0\n",
            "4    005.jpg  0.6138  OS   A         0\n",
            "..       ...     ...  ..  ..       ...\n",
            "645  646.jpg  0.6560  OD   A         1\n",
            "646  647.jpg  0.7365  OD   A         1\n",
            "647  648.jpg  0.5101  OS   A         1\n",
            "648  649.jpg  0.5227  OD   B         0\n",
            "649  650.jpg  0.6195  OS   B         1\n",
            "\n",
            "[650 rows x 5 columns]\n"
          ]
        }
      ]
    },
    {
      "cell_type": "code",
      "source": [
        "data.info()"
      ],
      "metadata": {
        "colab": {
          "base_uri": "https://localhost:8080/"
        },
        "id": "0owLJTxIiofP",
        "outputId": "98c449b2-7025-4b1e-fe86-53c7a727cb9e"
      },
      "execution_count": 8,
      "outputs": [
        {
          "output_type": "stream",
          "name": "stdout",
          "text": [
            "<class 'pandas.core.frame.DataFrame'>\n",
            "RangeIndex: 650 entries, 0 to 649\n",
            "Data columns (total 5 columns):\n",
            " #   Column    Non-Null Count  Dtype  \n",
            "---  ------    --------------  -----  \n",
            " 0   Filename  650 non-null    object \n",
            " 1   ExpCDR    650 non-null    float64\n",
            " 2   Eye       650 non-null    object \n",
            " 3   Set       650 non-null    object \n",
            " 4   Glaucoma  650 non-null    int64  \n",
            "dtypes: float64(1), int64(1), object(3)\n",
            "memory usage: 25.5+ KB\n"
          ]
        }
      ]
    },
    {
      "cell_type": "code",
      "source": [
        "#variables categoricas\n",
        "columnas_categoricas = data.select_dtypes(include=['object']).columns\n",
        "#variables fechas\n",
        "columnas_fechas = data.select_dtypes(include=['datetime64']).columns"
      ],
      "metadata": {
        "id": "cj0wCfSTi2bF"
      },
      "execution_count": 9,
      "outputs": []
    },
    {
      "cell_type": "code",
      "source": [
        "#Procesamiento de frases o palabras\n",
        "for columna in columnas_categoricas:\n",
        "  le = LabelEncoder()\n",
        "  data[columna] = le.fit_transform(data[columna])"
      ],
      "metadata": {
        "id": "nTxXTpZMjI4L"
      },
      "execution_count": 10,
      "outputs": []
    },
    {
      "cell_type": "code",
      "source": [
        "print(data)"
      ],
      "metadata": {
        "colab": {
          "base_uri": "https://localhost:8080/"
        },
        "id": "l2bTdFHtjMZJ",
        "outputId": "e38c2cde-8805-4d87-cde4-5987ac4c15c7"
      },
      "execution_count": 11,
      "outputs": [
        {
          "output_type": "stream",
          "name": "stdout",
          "text": [
            "     Filename  ExpCDR  Eye  Set  Glaucoma\n",
            "0           0  0.7097    0    0         0\n",
            "1           1  0.6953    1    0         0\n",
            "2           2  0.9629    1    0         0\n",
            "3           3  0.7246    0    0         0\n",
            "4           4  0.6138    1    0         0\n",
            "..        ...     ...  ...  ...       ...\n",
            "645       645  0.6560    0    0         1\n",
            "646       646  0.7365    0    0         1\n",
            "647       647  0.5101    1    0         1\n",
            "648       648  0.5227    0    1         0\n",
            "649       649  0.6195    1    1         1\n",
            "\n",
            "[650 rows x 5 columns]\n"
          ]
        }
      ]
    },
    {
      "cell_type": "code",
      "source": [
        "data.info()"
      ],
      "metadata": {
        "colab": {
          "base_uri": "https://localhost:8080/"
        },
        "id": "gGwALdIMmFis",
        "outputId": "fec8f4bd-2276-4ffb-f6df-e5e43ee0b1e4"
      },
      "execution_count": 12,
      "outputs": [
        {
          "output_type": "stream",
          "name": "stdout",
          "text": [
            "<class 'pandas.core.frame.DataFrame'>\n",
            "RangeIndex: 650 entries, 0 to 649\n",
            "Data columns (total 5 columns):\n",
            " #   Column    Non-Null Count  Dtype  \n",
            "---  ------    --------------  -----  \n",
            " 0   Filename  650 non-null    int64  \n",
            " 1   ExpCDR    650 non-null    float64\n",
            " 2   Eye       650 non-null    int64  \n",
            " 3   Set       650 non-null    int64  \n",
            " 4   Glaucoma  650 non-null    int64  \n",
            "dtypes: float64(1), int64(4)\n",
            "memory usage: 25.5 KB\n"
          ]
        }
      ]
    },
    {
      "cell_type": "code",
      "source": [
        "# Division de dataset en entrenamiento y prueba\n",
        "train_data, test_data = train_test_split(data, test_size=0.2, random_state=42)"
      ],
      "metadata": {
        "id": "BvBXIdTdmLy3"
      },
      "execution_count": 13,
      "outputs": []
    },
    {
      "cell_type": "code",
      "source": [
        "print(train_data)"
      ],
      "metadata": {
        "colab": {
          "base_uri": "https://localhost:8080/"
        },
        "id": "XltXpyp8oNIQ",
        "outputId": "56fd4eaa-f9cc-4c2f-d9f5-952cd3a9951a"
      },
      "execution_count": 14,
      "outputs": [
        {
          "output_type": "stream",
          "name": "stdout",
          "text": [
            "     Filename  ExpCDR  Eye  Set  Glaucoma\n",
            "333       333  0.6623    0    1         0\n",
            "29         29  0.6761    1    0         0\n",
            "553       553  0.5762    0    1         0\n",
            "286       286  0.5333    1    0         0\n",
            "425       425  0.6375    0    0         1\n",
            "..        ...     ...  ...  ...       ...\n",
            "71         71  0.6257    0    1         1\n",
            "106       106  0.4789    1    1         0\n",
            "270       270  0.5339    1    1         0\n",
            "435       435  0.4516    0    0         0\n",
            "102       102  0.6043    0    0         0\n",
            "\n",
            "[520 rows x 5 columns]\n"
          ]
        }
      ]
    },
    {
      "cell_type": "code",
      "source": [
        "print(test_data)"
      ],
      "metadata": {
        "colab": {
          "base_uri": "https://localhost:8080/"
        },
        "id": "Qkju1wWnpDu4",
        "outputId": "b5a9ce2f-870c-498e-d37c-bb4310c3a2ee"
      },
      "execution_count": 15,
      "outputs": [
        {
          "output_type": "stream",
          "name": "stdout",
          "text": [
            "     Filename  ExpCDR  Eye  Set  Glaucoma\n",
            "637       637  0.5253    1    1         1\n",
            "220       220  0.5699    1    1         0\n",
            "428       428  0.7116    1    1         1\n",
            "326       326  0.8824    0    1         1\n",
            "72         72  0.5341    0    0         0\n",
            "..        ...     ...  ...  ...       ...\n",
            "515       515  0.8495    1    0         1\n",
            "375       375  0.4930    1    1         0\n",
            "369       369  0.5351    1    0         0\n",
            "244       244  0.5914    1    1         1\n",
            "602       602  0.6651    0    0         0\n",
            "\n",
            "[130 rows x 5 columns]\n"
          ]
        }
      ]
    },
    {
      "cell_type": "code",
      "source": [
        "train_data.info()"
      ],
      "metadata": {
        "colab": {
          "base_uri": "https://localhost:8080/"
        },
        "id": "qDd_qN2xpJoL",
        "outputId": "d9688618-1a03-417d-8bb0-7bc0cf601040"
      },
      "execution_count": 16,
      "outputs": [
        {
          "output_type": "stream",
          "name": "stdout",
          "text": [
            "<class 'pandas.core.frame.DataFrame'>\n",
            "Int64Index: 520 entries, 333 to 102\n",
            "Data columns (total 5 columns):\n",
            " #   Column    Non-Null Count  Dtype  \n",
            "---  ------    --------------  -----  \n",
            " 0   Filename  520 non-null    int64  \n",
            " 1   ExpCDR    520 non-null    float64\n",
            " 2   Eye       520 non-null    int64  \n",
            " 3   Set       520 non-null    int64  \n",
            " 4   Glaucoma  520 non-null    int64  \n",
            "dtypes: float64(1), int64(4)\n",
            "memory usage: 24.4 KB\n"
          ]
        }
      ]
    },
    {
      "cell_type": "code",
      "source": [
        "test_data.info()"
      ],
      "metadata": {
        "colab": {
          "base_uri": "https://localhost:8080/"
        },
        "id": "5SI_xNw1oSFO",
        "outputId": "5cdefbd9-7bc7-4f33-9f73-542e074f40c3"
      },
      "execution_count": 17,
      "outputs": [
        {
          "output_type": "stream",
          "name": "stdout",
          "text": [
            "<class 'pandas.core.frame.DataFrame'>\n",
            "Int64Index: 130 entries, 637 to 602\n",
            "Data columns (total 5 columns):\n",
            " #   Column    Non-Null Count  Dtype  \n",
            "---  ------    --------------  -----  \n",
            " 0   Filename  130 non-null    int64  \n",
            " 1   ExpCDR    130 non-null    float64\n",
            " 2   Eye       130 non-null    int64  \n",
            " 3   Set       130 non-null    int64  \n",
            " 4   Glaucoma  130 non-null    int64  \n",
            "dtypes: float64(1), int64(4)\n",
            "memory usage: 6.1 KB\n"
          ]
        }
      ]
    },
    {
      "cell_type": "code",
      "source": [
        "train_data.to_csv(\"train.csv\", index=False)"
      ],
      "metadata": {
        "id": "CqOqI5-cpY4F"
      },
      "execution_count": 18,
      "outputs": []
    },
    {
      "cell_type": "code",
      "source": [
        "test_data.to_csv(\"test.csv\", index=False)"
      ],
      "metadata": {
        "id": "M3vYAG9KpZAw"
      },
      "execution_count": 19,
      "outputs": []
    },
    {
      "cell_type": "code",
      "source": [
        "#Carga de dataset\n",
        "data = pd.read_csv('/content/train.csv')"
      ],
      "metadata": {
        "id": "SglsM7KopZLW"
      },
      "execution_count": 20,
      "outputs": []
    },
    {
      "cell_type": "code",
      "source": [
        "X = data.iloc[:, :4]\n",
        "y = data.iloc[:, 4]\n",
        "m = y.size"
      ],
      "metadata": {
        "id": "ZwYA30CWpi9d"
      },
      "execution_count": 21,
      "outputs": []
    },
    {
      "cell_type": "code",
      "source": [
        "print(X)\n",
        "print('*'*25)\n",
        "print(y)"
      ],
      "metadata": {
        "colab": {
          "base_uri": "https://localhost:8080/"
        },
        "id": "eUCXSNe_pvMa",
        "outputId": "e9b4b24d-213a-4cbc-e68d-ef97e61372fc"
      },
      "execution_count": 22,
      "outputs": [
        {
          "output_type": "stream",
          "name": "stdout",
          "text": [
            "     Filename  ExpCDR  Eye  Set\n",
            "0         333  0.6623    0    1\n",
            "1          29  0.6761    1    0\n",
            "2         553  0.5762    0    1\n",
            "3         286  0.5333    1    0\n",
            "4         425  0.6375    0    0\n",
            "..        ...     ...  ...  ...\n",
            "515        71  0.6257    0    1\n",
            "516       106  0.4789    1    1\n",
            "517       270  0.5339    1    1\n",
            "518       435  0.4516    0    0\n",
            "519       102  0.6043    0    0\n",
            "\n",
            "[520 rows x 4 columns]\n",
            "*************************\n",
            "0      0\n",
            "1      0\n",
            "2      0\n",
            "3      0\n",
            "4      1\n",
            "      ..\n",
            "515    1\n",
            "516    0\n",
            "517    0\n",
            "518    0\n",
            "519    0\n",
            "Name: Glaucoma, Length: 520, dtype: int64\n"
          ]
        }
      ]
    },
    {
      "cell_type": "code",
      "source": [
        "# se utiliza para el manejo de rutas y directorios.\n",
        "import os\n",
        "\n",
        "# Calculo cientifico y vectorial para python\n",
        "import numpy as np\n",
        "\n",
        "# Librerias para graficar\n",
        "from matplotlib import pyplot\n",
        "\n",
        "# Modulo de optimización de scipy\n",
        "from scipy import optimize\n",
        "\n",
        "# le dice a matplotlib que incruste gráficos en el cuaderno\n",
        "%matplotlib inline"
      ],
      "metadata": {
        "id": "vUbrfJ_bpwVG"
      },
      "execution_count": 23,
      "outputs": []
    },
    {
      "cell_type": "code",
      "source": [
        "def sigmoid(z):\n",
        "    # Calcula la sigmoide de una entrada z\n",
        "    # convierte la intrada a un arreglo numpy\n",
        "    z = np.array(z)\n",
        "\n",
        "    g = np.zeros(z.shape)\n",
        "\n",
        "    g = 1 / (1 + np.exp(-z))\n",
        "\n",
        "    return g"
      ],
      "metadata": {
        "id": "ONdM1KaAqeg8"
      },
      "execution_count": 24,
      "outputs": []
    },
    {
      "cell_type": "code",
      "source": [
        "# Configurar la matriz adecuadamente, y agregar una columna de unos que corresponde al termino de intercepción.\n",
        "m, n = X.shape\n",
        "# Agraga el termino de intercepción a A\n",
        "X = np.concatenate([np.ones((m, 1)), X], axis=1)"
      ],
      "metadata": {
        "id": "Y076nQncqevt"
      },
      "execution_count": 25,
      "outputs": []
    },
    {
      "cell_type": "code",
      "source": [
        "print(X)"
      ],
      "metadata": {
        "colab": {
          "base_uri": "https://localhost:8080/"
        },
        "id": "O7hvkrPFqe7z",
        "outputId": "909e03db-ea1d-49a2-aacb-f812d045e810"
      },
      "execution_count": 26,
      "outputs": [
        {
          "output_type": "stream",
          "name": "stdout",
          "text": [
            "[[1.000e+00 3.330e+02 6.623e-01 0.000e+00 1.000e+00]\n",
            " [1.000e+00 2.900e+01 6.761e-01 1.000e+00 0.000e+00]\n",
            " [1.000e+00 5.530e+02 5.762e-01 0.000e+00 1.000e+00]\n",
            " ...\n",
            " [1.000e+00 2.700e+02 5.339e-01 1.000e+00 1.000e+00]\n",
            " [1.000e+00 4.350e+02 4.516e-01 0.000e+00 0.000e+00]\n",
            " [1.000e+00 1.020e+02 6.043e-01 0.000e+00 0.000e+00]]\n"
          ]
        }
      ]
    },
    {
      "cell_type": "code",
      "source": [
        "def calcularCosto(theta, X, y):\n",
        "    # Inicializar algunos valores utiles\n",
        "    m = y.size  # numero de ejemplos de entrenamiento\n",
        "\n",
        "    J = 0\n",
        "    h = sigmoid(X.dot(theta.T))\n",
        "    J = (1 / m) * np.sum(-y.dot(np.log(h)) - (1 - y).dot(np.log(1 - h)))\n",
        "\n",
        "    return J"
      ],
      "metadata": {
        "id": "NHb6UPXhqvPV"
      },
      "execution_count": 27,
      "outputs": []
    },
    {
      "cell_type": "code",
      "source": [
        "def descensoGradiente(theta, X, y, alpha, num_iters):\n",
        "    # Inicializa algunos valores\n",
        "    m = y.shape[0] # numero de ejemplos de entrenamiento\n",
        "\n",
        "    # realiza una copia de theta, el cual será acutalizada por el descenso por el gradiente\n",
        "    theta = theta.copy()\n",
        "    J_history = []\n",
        "\n",
        "    for i in range(num_iters):\n",
        "        h = sigmoid(X.dot(theta.T))\n",
        "        theta = theta - (alpha / m) * (h - y).dot(X)\n",
        "\n",
        "        J_history.append(calcularCosto(theta, X, y))\n",
        "    return theta, J_history"
      ],
      "metadata": {
        "id": "hG7P671dqy-p"
      },
      "execution_count": 28,
      "outputs": []
    },
    {
      "cell_type": "code",
      "source": [
        "#Carga de dataset\n",
        "data = pd.read_csv('/content/test.csv')\n",
        "print(data)"
      ],
      "metadata": {
        "colab": {
          "base_uri": "https://localhost:8080/"
        },
        "id": "9ZRANfVkq1-9",
        "outputId": "1a729249-5f79-471a-8e79-f38aa83f06d7"
      },
      "execution_count": 29,
      "outputs": [
        {
          "output_type": "stream",
          "name": "stdout",
          "text": [
            "     Filename  ExpCDR  Eye  Set  Glaucoma\n",
            "0         637  0.5253    1    1         1\n",
            "1         220  0.5699    1    1         0\n",
            "2         428  0.7116    1    1         1\n",
            "3         326  0.8824    0    1         1\n",
            "4          72  0.5341    0    0         0\n",
            "..        ...     ...  ...  ...       ...\n",
            "125       515  0.8495    1    0         1\n",
            "126       375  0.4930    1    1         0\n",
            "127       369  0.5351    1    0         0\n",
            "128       244  0.5914    1    1         1\n",
            "129       602  0.6651    0    0         0\n",
            "\n",
            "[130 rows x 5 columns]\n"
          ]
        }
      ]
    },
    {
      "cell_type": "code",
      "source": [
        "fila_deseada = 128\n",
        "\n",
        "if fila_deseada < len(data):\n",
        "  fila_completa = data.iloc[fila_deseada].to_numpy()\n",
        "  print(fila_completa)\n",
        "else:\n",
        "  print(\"La fila no existe\")"
      ],
      "metadata": {
        "colab": {
          "base_uri": "https://localhost:8080/"
        },
        "id": "RbRRdXpvq2Do",
        "outputId": "76fc8d44-12c6-4ec3-ae97-3eb6283f415f"
      },
      "execution_count": 30,
      "outputs": [
        {
          "output_type": "stream",
          "name": "stdout",
          "text": [
            "[244.       0.5914   1.       1.       1.    ]\n"
          ]
        }
      ]
    },
    {
      "cell_type": "code",
      "source": [
        "# Elegir algun valor para alpha (probar varias alternativas)\n",
        "alpha = 0.0001\n",
        "num_iters = 10000\n",
        "\n",
        "# inicializa theta y ejecuta el descenso por el gradiente\n",
        "theta = np.zeros(5)\n",
        "theta, J_history = descensoGradiente(theta, X, y, alpha, num_iters)\n",
        "\n",
        "# Grafica la convergencia del costo\n",
        "pyplot.plot(np.arange(len(J_history)), J_history, lw=2)\n",
        "pyplot.xlabel('Numero de iteraciones')\n",
        "pyplot.ylabel('Costo J')\n",
        "\n",
        "# Muestra los resultados del descenso por el gradiente\n",
        "print('theta calculado por el descenso por el gradiente: {:s}'.format(str(theta)))\n",
        "\n",
        "# verificar si tiene o no el Glaucoma\n",
        "X_array = [1, 244, 0.5914,1, 1]\n",
        "\n",
        "prueba = sigmoid(np.dot(X_array, theta))\n",
        "\n",
        "print(f\"El test de deteccion es:{prueba}\")"
      ],
      "metadata": {
        "colab": {
          "base_uri": "https://localhost:8080/",
          "height": 524
        },
        "id": "lfBUfyiUrOsC",
        "outputId": "00735ca4-e818-40e5-a114-f1e01cecb52d"
      },
      "execution_count": 31,
      "outputs": [
        {
          "output_type": "stream",
          "name": "stdout",
          "text": [
            "theta calculado por el descenso por el gradiente: [-8.91655938e-02 -4.49704662e-05 -2.47034725e-02 -3.17275596e-02\n",
            " -2.75652055e-02]\n",
            "El test de deteccion es:0.4565992994765253\n"
          ]
        },
        {
          "output_type": "display_data",
          "data": {
            "text/plain": [
              "<Figure size 640x480 with 1 Axes>"
            ],
            "image/png": "[encoded data removed]"
          },
          "metadata": {}
        }
      ]
    },
    {
      "cell_type": "code",
      "source": [],
      "metadata": {
        "id": "gf7wGYUkr4uj"
      },
      "execution_count": 31,
      "outputs": []
    }
  ]
}